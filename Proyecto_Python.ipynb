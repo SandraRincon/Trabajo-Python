{
 "cells": [
  {
   "cell_type": "markdown",
   "id": "af6e5db2",
   "metadata": {},
   "source": [
    "# Proyecto_Python\n",
    "\n",
    "Se utiliza un conjunto de datos tomado de la página 'https://www.kaggle.com/datamarket/venta-de-coches/version/1' donde debe hacerse un registro de usuario y luego descargar los datos, por este motivo no se utilizó  directamente el scraping sino que se tomaron los datos de allí y se cargaron en el Jupyternotebook para trabajarlos de manera local.\n",
    "\n",
    "Los datos registran características de carros, dentro de ellas el precio de venta, el precio de financiamiento, el color, la marca, el modelo, el año y otras, la problemática a analizar es observar las características que  tienen los vehículos que se compraron através de la página web para sacar conclusiones de preferencia y gustos por parte de los individuos. De igual forma  mirar sus distribuciones, hacer estadísticas descripticas de algunas variables del problema, procesar estas, depurar la información y plasmarla en gráficos.\n"
   ]
  },
  {
   "cell_type": "markdown",
   "id": "e113c9f7",
   "metadata": {},
   "source": [
    "# Importar las librerias\n",
    "En este caso usaremos las librerias 'Pandas' y 'Numpy' que se nombraran como 'pd' y 'np' respectivamente.\n",
    "\n",
    "Además para graficar utilizaremos la librería 'seaborn' como 'sns'. \n",
    "\n",
    "También se utiliza la libreria 'matplotlib.pyplot' para generar graficos y se nombra por 'plt'. "
   ]
  },
  {
   "cell_type": "code",
   "execution_count": 80,
   "id": "0dab00db",
   "metadata": {},
   "outputs": [],
   "source": [
    "import pandas as pd\n",
    "import numpy as np\n",
    "import seaborn as sns\n",
    "import matplotlib.pyplot as plt"
   ]
  },
  {
   "cell_type": "markdown",
   "id": "b860ee3d",
   "metadata": {},
   "source": [
    "# Cargar datos\n",
    "Los datos se descargaron en un archivo .csv el cual se encuentra en la carpeta del Notebook y se anexa en el envío para que pueda ser ejecutado este código. Como los datos estan en este formato, para cargas los datos utilizamos la librería 'Pandas' de donde se toma la función 'read_csv' la cual permite traer los datos a la hoja de trabajo de la siguiente manera:"
   ]
  },
  {
   "cell_type": "code",
   "execution_count": 9,
   "id": "3c9bd169",
   "metadata": {},
   "outputs": [],
   "source": [
    "datos = pd.read_csv('venta-de-coches-sample.csv')"
   ]
  },
  {
   "cell_type": "markdown",
   "id": "f1af87cf",
   "metadata": {},
   "source": [
    "# Descripción de la base\n",
    "Una vez se tienen los datos en el Notebook, empezamos por describir de forma general de la base como por ejemplo el tamaño de esta, vemos a continuación con el comando '.shape' muestra que  la dimensión de la base es de 5000 observaciones por 20 variables cada una."
   ]
  },
  {
   "cell_type": "code",
   "execution_count": 10,
   "id": "73840982",
   "metadata": {},
   "outputs": [
    {
     "data": {
      "text/plain": [
       "(5000, 20)"
      ]
     },
     "execution_count": 10,
     "metadata": {},
     "output_type": "execute_result"
    }
   ],
   "source": [
    "datos.shape"
   ]
  },
  {
   "cell_type": "markdown",
   "id": "a48eca5c",
   "metadata": {},
   "source": [
    "### Columnas del Dataset\n",
    "Las columnas con las que cuenta esta base son las que se muestran a continuación, decribiendo los siguientes factores:\n",
    "\n",
    "company = Compañia web encriptado \n",
    "\n",
    "make    = Marca del auto\n",
    "\n",
    "model   = Modelo de referencia del auto\n",
    "\n",
    "version = Versión del modelo del auto\n",
    "\n",
    "price   = Precio de venta\n",
    "\n",
    "price_financed = Precio financiado del auto\n",
    "\n",
    "fuel           = Tipo de combustible\n",
    "\n",
    "year           = Año de fabricación del auto\n",
    "\n",
    "kms            = kilómetros recorridos del auto\n",
    "\n",
    "power          = Potencia del auto\n",
    "\n",
    "doors          = Número de puertas del carro \n",
    "\n",
    "shift          = Tipo de caja de cambios del auto\n",
    "\n",
    "color          = Color del auto\n",
    "\n",
    "photos         = Número de fotos publicadas\n",
    "\n",
    "is_profesional = Si el auto es profesional o no\n",
    "\n",
    "dealer         = Expendedor del auto\n",
    "\n",
    "phone          = Número de contacto\n",
    "\n",
    "province       = Provincia donde esta el auto\n",
    "\n",
    "publish_date   = Fecha de publicación del auto\n",
    "\n",
    "insert_date    = Fecha de cargar la información a la base\n"
   ]
  },
  {
   "cell_type": "code",
   "execution_count": 11,
   "id": "982f118c",
   "metadata": {},
   "outputs": [
    {
     "data": {
      "text/plain": [
       "Index(['company', 'make', 'model', 'version', 'price', 'price_financed',\n",
       "       'fuel', 'year', 'kms', 'power', 'doors', 'shift', 'color', 'photos',\n",
       "       'is_professional', 'dealer', 'phone', 'province', 'publish_date',\n",
       "       'insert_date'],\n",
       "      dtype='object')"
      ]
     },
     "execution_count": 11,
     "metadata": {},
     "output_type": "execute_result"
    }
   ],
   "source": [
    "datos.columns"
   ]
  },
  {
   "cell_type": "markdown",
   "id": "cff912fe",
   "metadata": {},
   "source": [
    "## Visualización de datos\n",
    "Veamos los diez primeros datos de la base de datos en la siguiente tabla para tener una idea de los posibles valores que puden tomar, y como se encuentran ubicados"
   ]
  },
  {
   "cell_type": "code",
   "execution_count": 41,
   "id": "b64dfa71",
   "metadata": {
    "scrolled": true
   },
   "outputs": [
    {
     "data": {
      "text/html": [
       "<div>\n",
       "<style scoped>\n",
       "    .dataframe tbody tr th:only-of-type {\n",
       "        vertical-align: middle;\n",
       "    }\n",
       "\n",
       "    .dataframe tbody tr th {\n",
       "        vertical-align: top;\n",
       "    }\n",
       "\n",
       "    .dataframe thead th {\n",
       "        text-align: right;\n",
       "    }\n",
       "</style>\n",
       "<table border=\"1\" class=\"dataframe\">\n",
       "  <thead>\n",
       "    <tr style=\"text-align: right;\">\n",
       "      <th></th>\n",
       "      <th>company</th>\n",
       "      <th>make</th>\n",
       "      <th>model</th>\n",
       "      <th>version</th>\n",
       "      <th>price</th>\n",
       "      <th>fuel</th>\n",
       "      <th>year</th>\n",
       "      <th>kms</th>\n",
       "      <th>power</th>\n",
       "      <th>doors</th>\n",
       "      <th>shift</th>\n",
       "      <th>color</th>\n",
       "      <th>photos</th>\n",
       "      <th>is_professional</th>\n",
       "      <th>dealer</th>\n",
       "    </tr>\n",
       "  </thead>\n",
       "  <tbody>\n",
       "    <tr>\n",
       "      <th>0</th>\n",
       "      <td>9881BCDD5A0AD4733037B3FB25E69C3A</td>\n",
       "      <td>KIA</td>\n",
       "      <td>Carnival</td>\n",
       "      <td>KIA Carnival 2.9 CRDi VGT EX 5p.</td>\n",
       "      <td>4860</td>\n",
       "      <td>Diésel</td>\n",
       "      <td>2007</td>\n",
       "      <td>221000</td>\n",
       "      <td>185.0</td>\n",
       "      <td>5.0</td>\n",
       "      <td>Manual</td>\n",
       "      <td>Beige (champagne)</td>\n",
       "      <td>8</td>\n",
       "      <td>True</td>\n",
       "      <td>VM Motor</td>\n",
       "    </tr>\n",
       "    <tr>\n",
       "      <th>1</th>\n",
       "      <td>9881BCDD5A0AD4733037B3FB25E69C3A</td>\n",
       "      <td>BMW</td>\n",
       "      <td>Serie 5</td>\n",
       "      <td>BMW Serie 5  4p.</td>\n",
       "      <td>1800</td>\n",
       "      <td>Diésel</td>\n",
       "      <td>2001</td>\n",
       "      <td>205000</td>\n",
       "      <td>NaN</td>\n",
       "      <td>4.0</td>\n",
       "      <td>Manual</td>\n",
       "      <td>Verde</td>\n",
       "      <td>0</td>\n",
       "      <td>False</td>\n",
       "      <td>3F128E570B3A9009D7B52A0523AF43DD</td>\n",
       "    </tr>\n",
       "    <tr>\n",
       "      <th>2</th>\n",
       "      <td>9881BCDD5A0AD4733037B3FB25E69C3A</td>\n",
       "      <td>FIAT</td>\n",
       "      <td>500</td>\n",
       "      <td>FIAT 500 1.2 8v 51kW 69CV Lounge 3p.</td>\n",
       "      <td>6490</td>\n",
       "      <td>Gasolina</td>\n",
       "      <td>2017</td>\n",
       "      <td>75000</td>\n",
       "      <td>69.0</td>\n",
       "      <td>3.0</td>\n",
       "      <td>Manual</td>\n",
       "      <td>Negro</td>\n",
       "      <td>7</td>\n",
       "      <td>True</td>\n",
       "      <td>LAS PALMAS MOTOR</td>\n",
       "    </tr>\n",
       "    <tr>\n",
       "      <th>3</th>\n",
       "      <td>9881BCDD5A0AD4733037B3FB25E69C3A</td>\n",
       "      <td>OPEL</td>\n",
       "      <td>Astra</td>\n",
       "      <td>OPEL Astra  3p.</td>\n",
       "      <td>5550</td>\n",
       "      <td>Diésel</td>\n",
       "      <td>2009</td>\n",
       "      <td>137000</td>\n",
       "      <td>NaN</td>\n",
       "      <td>3.0</td>\n",
       "      <td>Manual</td>\n",
       "      <td>Rojo</td>\n",
       "      <td>0</td>\n",
       "      <td>False</td>\n",
       "      <td>22003DEA67E7C5BE6022A29E677668BC</td>\n",
       "    </tr>\n",
       "    <tr>\n",
       "      <th>4</th>\n",
       "      <td>9881BCDD5A0AD4733037B3FB25E69C3A</td>\n",
       "      <td>MERCEDES-BENZ</td>\n",
       "      <td>Clase C</td>\n",
       "      <td>MERCEDES-BENZ Clase C C 220 CDI AVANTGARDE 4p.</td>\n",
       "      <td>11990</td>\n",
       "      <td>Diésel</td>\n",
       "      <td>2008</td>\n",
       "      <td>95000</td>\n",
       "      <td>170.0</td>\n",
       "      <td>4.0</td>\n",
       "      <td>Automático</td>\n",
       "      <td>Gris / Plata</td>\n",
       "      <td>21</td>\n",
       "      <td>True</td>\n",
       "      <td>Autos Lipiz</td>\n",
       "    </tr>\n",
       "    <tr>\n",
       "      <th>5</th>\n",
       "      <td>9881BCDD5A0AD4733037B3FB25E69C3A</td>\n",
       "      <td>OPEL</td>\n",
       "      <td>Zafira</td>\n",
       "      <td>OPEL Zafira  5p.</td>\n",
       "      <td>1000</td>\n",
       "      <td>Diésel</td>\n",
       "      <td>2002</td>\n",
       "      <td>400000</td>\n",
       "      <td>NaN</td>\n",
       "      <td>5.0</td>\n",
       "      <td>Manual</td>\n",
       "      <td>Gris / Plata</td>\n",
       "      <td>0</td>\n",
       "      <td>False</td>\n",
       "      <td>BC2AB28E4CDA984CA76646874371E864</td>\n",
       "    </tr>\n",
       "    <tr>\n",
       "      <th>6</th>\n",
       "      <td>9881BCDD5A0AD4733037B3FB25E69C3A</td>\n",
       "      <td>PEUGEOT</td>\n",
       "      <td>3008</td>\n",
       "      <td>PEUGEOT 3008 1.2 PURETECH 130 HP ALLURE SS 5p.</td>\n",
       "      <td>25400</td>\n",
       "      <td>Gasolina</td>\n",
       "      <td>2020</td>\n",
       "      <td>0</td>\n",
       "      <td>130.0</td>\n",
       "      <td>5.0</td>\n",
       "      <td>Manual</td>\n",
       "      <td>Blanco</td>\n",
       "      <td>9</td>\n",
       "      <td>True</td>\n",
       "      <td>Peugeot Beycar</td>\n",
       "    </tr>\n",
       "    <tr>\n",
       "      <th>7</th>\n",
       "      <td>9881BCDD5A0AD4733037B3FB25E69C3A</td>\n",
       "      <td>VOLKSWAGEN</td>\n",
       "      <td>Polo</td>\n",
       "      <td>VOLKSWAGEN Polo  5p.</td>\n",
       "      <td>6150</td>\n",
       "      <td>Diésel</td>\n",
       "      <td>2010</td>\n",
       "      <td>130000</td>\n",
       "      <td>NaN</td>\n",
       "      <td>5.0</td>\n",
       "      <td>Manual</td>\n",
       "      <td>Gris / Plata</td>\n",
       "      <td>0</td>\n",
       "      <td>False</td>\n",
       "      <td>E30470AE2226896865B9C6B56A0F85D5</td>\n",
       "    </tr>\n",
       "    <tr>\n",
       "      <th>8</th>\n",
       "      <td>9881BCDD5A0AD4733037B3FB25E69C3A</td>\n",
       "      <td>OPEL</td>\n",
       "      <td>Insignia</td>\n",
       "      <td>OPEL Insignia ST 2.0 CDTI ecoFLEX SS 140 CV Se...</td>\n",
       "      <td>8200</td>\n",
       "      <td>Diésel</td>\n",
       "      <td>2015</td>\n",
       "      <td>119000</td>\n",
       "      <td>140.0</td>\n",
       "      <td>5.0</td>\n",
       "      <td>Manual</td>\n",
       "      <td>Blanco</td>\n",
       "      <td>6</td>\n",
       "      <td>False</td>\n",
       "      <td>177DACB14B34103960EC27BA29BD686B</td>\n",
       "    </tr>\n",
       "    <tr>\n",
       "      <th>9</th>\n",
       "      <td>9881BCDD5A0AD4733037B3FB25E69C3A</td>\n",
       "      <td>FORD</td>\n",
       "      <td>Focus</td>\n",
       "      <td>FORD Focus  3p.</td>\n",
       "      <td>700</td>\n",
       "      <td>Gasolina</td>\n",
       "      <td>2001</td>\n",
       "      <td>256000</td>\n",
       "      <td>NaN</td>\n",
       "      <td>3.0</td>\n",
       "      <td>Manual</td>\n",
       "      <td>Negro</td>\n",
       "      <td>0</td>\n",
       "      <td>False</td>\n",
       "      <td>AAE039D6AA239CFC121357A825210FA3</td>\n",
       "    </tr>\n",
       "  </tbody>\n",
       "</table>\n",
       "</div>"
      ],
      "text/plain": [
       "                            company           make     model  \\\n",
       "0  9881BCDD5A0AD4733037B3FB25E69C3A            KIA  Carnival   \n",
       "1  9881BCDD5A0AD4733037B3FB25E69C3A            BMW   Serie 5   \n",
       "2  9881BCDD5A0AD4733037B3FB25E69C3A           FIAT       500   \n",
       "3  9881BCDD5A0AD4733037B3FB25E69C3A           OPEL     Astra   \n",
       "4  9881BCDD5A0AD4733037B3FB25E69C3A  MERCEDES-BENZ   Clase C   \n",
       "5  9881BCDD5A0AD4733037B3FB25E69C3A           OPEL    Zafira   \n",
       "6  9881BCDD5A0AD4733037B3FB25E69C3A        PEUGEOT      3008   \n",
       "7  9881BCDD5A0AD4733037B3FB25E69C3A     VOLKSWAGEN      Polo   \n",
       "8  9881BCDD5A0AD4733037B3FB25E69C3A           OPEL  Insignia   \n",
       "9  9881BCDD5A0AD4733037B3FB25E69C3A           FORD     Focus   \n",
       "\n",
       "                                             version  price      fuel  year  \\\n",
       "0                   KIA Carnival 2.9 CRDi VGT EX 5p.   4860    Diésel  2007   \n",
       "1                                   BMW Serie 5  4p.   1800    Diésel  2001   \n",
       "2               FIAT 500 1.2 8v 51kW 69CV Lounge 3p.   6490  Gasolina  2017   \n",
       "3                                    OPEL Astra  3p.   5550    Diésel  2009   \n",
       "4     MERCEDES-BENZ Clase C C 220 CDI AVANTGARDE 4p.  11990    Diésel  2008   \n",
       "5                                   OPEL Zafira  5p.   1000    Diésel  2002   \n",
       "6     PEUGEOT 3008 1.2 PURETECH 130 HP ALLURE SS 5p.  25400  Gasolina  2020   \n",
       "7                               VOLKSWAGEN Polo  5p.   6150    Diésel  2010   \n",
       "8  OPEL Insignia ST 2.0 CDTI ecoFLEX SS 140 CV Se...   8200    Diésel  2015   \n",
       "9                                    FORD Focus  3p.    700  Gasolina  2001   \n",
       "\n",
       "      kms  power  doors       shift              color  photos  \\\n",
       "0  221000  185.0    5.0      Manual  Beige (champagne)       8   \n",
       "1  205000    NaN    4.0      Manual              Verde       0   \n",
       "2   75000   69.0    3.0      Manual              Negro       7   \n",
       "3  137000    NaN    3.0      Manual               Rojo       0   \n",
       "4   95000  170.0    4.0  Automático       Gris / Plata      21   \n",
       "5  400000    NaN    5.0      Manual       Gris / Plata       0   \n",
       "6       0  130.0    5.0      Manual             Blanco       9   \n",
       "7  130000    NaN    5.0      Manual       Gris / Plata       0   \n",
       "8  119000  140.0    5.0      Manual             Blanco       6   \n",
       "9  256000    NaN    3.0      Manual              Negro       0   \n",
       "\n",
       "   is_professional                            dealer  \n",
       "0             True                          VM Motor  \n",
       "1            False  3F128E570B3A9009D7B52A0523AF43DD  \n",
       "2             True                  LAS PALMAS MOTOR  \n",
       "3            False  22003DEA67E7C5BE6022A29E677668BC  \n",
       "4             True                       Autos Lipiz  \n",
       "5            False  BC2AB28E4CDA984CA76646874371E864  \n",
       "6             True                    Peugeot Beycar  \n",
       "7            False  E30470AE2226896865B9C6B56A0F85D5  \n",
       "8            False  177DACB14B34103960EC27BA29BD686B  \n",
       "9            False  AAE039D6AA239CFC121357A825210FA3  "
      ]
     },
     "execution_count": 41,
     "metadata": {},
     "output_type": "execute_result"
    }
   ],
   "source": [
    "datos.head(10)"
   ]
  },
  {
   "cell_type": "markdown",
   "id": "d272fc58",
   "metadata": {},
   "source": [
    "# Preprocesamiento\n",
    "Para iniciar con la etapa de preprocesamiento vamos a empezar por retirar algunas variables que no se consideran importantes para el ejercicio que son:\n",
    "\n",
    "- phone\n",
    "\n",
    "- province\n",
    "\n",
    "- publish_date\n",
    "\n",
    "- insert_date\n",
    "\n",
    "Ya que el número de teléfono no lo vamos a utilizar para el ejercicio académico, la provincia no la analizaremos porque los datos provienen de españa y en este caso queremos ver el comportamiento en general de toda la región y las fechas de publicación y de carga de datos a las base no nos competen para el ejercicio. \n",
    "\n",
    "Así que procedemos a eliminar de la base a estas 4 columnas como parte del preprocesamiento."
   ]
  },
  {
   "cell_type": "code",
   "execution_count": 13,
   "id": "93c997fe",
   "metadata": {},
   "outputs": [],
   "source": [
    "datos = datos.drop(['phone',\n",
    "                    'province',\n",
    "                    'publish_date',\n",
    "                    'insert_date'],\n",
    "                  axis = 1)"
   ]
  },
  {
   "cell_type": "code",
   "execution_count": 14,
   "id": "e3387ab7",
   "metadata": {},
   "outputs": [
    {
     "data": {
      "text/plain": [
       "(5000, 16)"
      ]
     },
     "execution_count": 14,
     "metadata": {},
     "output_type": "execute_result"
    }
   ],
   "source": [
    "datos.shape"
   ]
  },
  {
   "cell_type": "code",
   "execution_count": 15,
   "id": "a26a9543",
   "metadata": {},
   "outputs": [
    {
     "data": {
      "text/plain": [
       "Index(['company', 'make', 'model', 'version', 'price', 'price_financed',\n",
       "       'fuel', 'year', 'kms', 'power', 'doors', 'shift', 'color', 'photos',\n",
       "       'is_professional', 'dealer'],\n",
       "      dtype='object')"
      ]
     },
     "execution_count": 15,
     "metadata": {},
     "output_type": "execute_result"
    }
   ],
   "source": [
    "datos.columns"
   ]
  },
  {
   "cell_type": "code",
   "execution_count": 16,
   "id": "e75b04a5",
   "metadata": {},
   "outputs": [
    {
     "data": {
      "text/html": [
       "<div>\n",
       "<style scoped>\n",
       "    .dataframe tbody tr th:only-of-type {\n",
       "        vertical-align: middle;\n",
       "    }\n",
       "\n",
       "    .dataframe tbody tr th {\n",
       "        vertical-align: top;\n",
       "    }\n",
       "\n",
       "    .dataframe thead th {\n",
       "        text-align: right;\n",
       "    }\n",
       "</style>\n",
       "<table border=\"1\" class=\"dataframe\">\n",
       "  <thead>\n",
       "    <tr style=\"text-align: right;\">\n",
       "      <th></th>\n",
       "      <th>company</th>\n",
       "      <th>make</th>\n",
       "      <th>model</th>\n",
       "      <th>version</th>\n",
       "      <th>price</th>\n",
       "      <th>price_financed</th>\n",
       "      <th>fuel</th>\n",
       "      <th>year</th>\n",
       "      <th>kms</th>\n",
       "      <th>power</th>\n",
       "      <th>doors</th>\n",
       "      <th>shift</th>\n",
       "      <th>color</th>\n",
       "      <th>photos</th>\n",
       "      <th>is_professional</th>\n",
       "      <th>dealer</th>\n",
       "    </tr>\n",
       "  </thead>\n",
       "  <tbody>\n",
       "    <tr>\n",
       "      <th>0</th>\n",
       "      <td>9881BCDD5A0AD4733037B3FB25E69C3A</td>\n",
       "      <td>KIA</td>\n",
       "      <td>Carnival</td>\n",
       "      <td>KIA Carnival 2.9 CRDi VGT EX 5p.</td>\n",
       "      <td>4860</td>\n",
       "      <td>4860.0</td>\n",
       "      <td>Diésel</td>\n",
       "      <td>2007</td>\n",
       "      <td>221000</td>\n",
       "      <td>185.0</td>\n",
       "      <td>5.0</td>\n",
       "      <td>Manual</td>\n",
       "      <td>Beige (champagne)</td>\n",
       "      <td>8</td>\n",
       "      <td>True</td>\n",
       "      <td>VM Motor</td>\n",
       "    </tr>\n",
       "    <tr>\n",
       "      <th>1</th>\n",
       "      <td>9881BCDD5A0AD4733037B3FB25E69C3A</td>\n",
       "      <td>BMW</td>\n",
       "      <td>Serie 5</td>\n",
       "      <td>BMW Serie 5  4p.</td>\n",
       "      <td>1800</td>\n",
       "      <td>NaN</td>\n",
       "      <td>Diésel</td>\n",
       "      <td>2001</td>\n",
       "      <td>205000</td>\n",
       "      <td>NaN</td>\n",
       "      <td>4.0</td>\n",
       "      <td>Manual</td>\n",
       "      <td>Verde</td>\n",
       "      <td>0</td>\n",
       "      <td>False</td>\n",
       "      <td>3F128E570B3A9009D7B52A0523AF43DD</td>\n",
       "    </tr>\n",
       "    <tr>\n",
       "      <th>2</th>\n",
       "      <td>9881BCDD5A0AD4733037B3FB25E69C3A</td>\n",
       "      <td>FIAT</td>\n",
       "      <td>500</td>\n",
       "      <td>FIAT 500 1.2 8v 51kW 69CV Lounge 3p.</td>\n",
       "      <td>6490</td>\n",
       "      <td>6490.0</td>\n",
       "      <td>Gasolina</td>\n",
       "      <td>2017</td>\n",
       "      <td>75000</td>\n",
       "      <td>69.0</td>\n",
       "      <td>3.0</td>\n",
       "      <td>Manual</td>\n",
       "      <td>Negro</td>\n",
       "      <td>7</td>\n",
       "      <td>True</td>\n",
       "      <td>LAS PALMAS MOTOR</td>\n",
       "    </tr>\n",
       "    <tr>\n",
       "      <th>3</th>\n",
       "      <td>9881BCDD5A0AD4733037B3FB25E69C3A</td>\n",
       "      <td>OPEL</td>\n",
       "      <td>Astra</td>\n",
       "      <td>OPEL Astra  3p.</td>\n",
       "      <td>5550</td>\n",
       "      <td>NaN</td>\n",
       "      <td>Diésel</td>\n",
       "      <td>2009</td>\n",
       "      <td>137000</td>\n",
       "      <td>NaN</td>\n",
       "      <td>3.0</td>\n",
       "      <td>Manual</td>\n",
       "      <td>Rojo</td>\n",
       "      <td>0</td>\n",
       "      <td>False</td>\n",
       "      <td>22003DEA67E7C5BE6022A29E677668BC</td>\n",
       "    </tr>\n",
       "    <tr>\n",
       "      <th>4</th>\n",
       "      <td>9881BCDD5A0AD4733037B3FB25E69C3A</td>\n",
       "      <td>MERCEDES-BENZ</td>\n",
       "      <td>Clase C</td>\n",
       "      <td>MERCEDES-BENZ Clase C C 220 CDI AVANTGARDE 4p.</td>\n",
       "      <td>11990</td>\n",
       "      <td>11490.0</td>\n",
       "      <td>Diésel</td>\n",
       "      <td>2008</td>\n",
       "      <td>95000</td>\n",
       "      <td>170.0</td>\n",
       "      <td>4.0</td>\n",
       "      <td>Automático</td>\n",
       "      <td>Gris / Plata</td>\n",
       "      <td>21</td>\n",
       "      <td>True</td>\n",
       "      <td>Autos Lipiz</td>\n",
       "    </tr>\n",
       "    <tr>\n",
       "      <th>5</th>\n",
       "      <td>9881BCDD5A0AD4733037B3FB25E69C3A</td>\n",
       "      <td>OPEL</td>\n",
       "      <td>Zafira</td>\n",
       "      <td>OPEL Zafira  5p.</td>\n",
       "      <td>1000</td>\n",
       "      <td>NaN</td>\n",
       "      <td>Diésel</td>\n",
       "      <td>2002</td>\n",
       "      <td>400000</td>\n",
       "      <td>NaN</td>\n",
       "      <td>5.0</td>\n",
       "      <td>Manual</td>\n",
       "      <td>Gris / Plata</td>\n",
       "      <td>0</td>\n",
       "      <td>False</td>\n",
       "      <td>BC2AB28E4CDA984CA76646874371E864</td>\n",
       "    </tr>\n",
       "    <tr>\n",
       "      <th>6</th>\n",
       "      <td>9881BCDD5A0AD4733037B3FB25E69C3A</td>\n",
       "      <td>PEUGEOT</td>\n",
       "      <td>3008</td>\n",
       "      <td>PEUGEOT 3008 1.2 PURETECH 130 HP ALLURE SS 5p.</td>\n",
       "      <td>25400</td>\n",
       "      <td>23400.0</td>\n",
       "      <td>Gasolina</td>\n",
       "      <td>2020</td>\n",
       "      <td>0</td>\n",
       "      <td>130.0</td>\n",
       "      <td>5.0</td>\n",
       "      <td>Manual</td>\n",
       "      <td>Blanco</td>\n",
       "      <td>9</td>\n",
       "      <td>True</td>\n",
       "      <td>Peugeot Beycar</td>\n",
       "    </tr>\n",
       "    <tr>\n",
       "      <th>7</th>\n",
       "      <td>9881BCDD5A0AD4733037B3FB25E69C3A</td>\n",
       "      <td>VOLKSWAGEN</td>\n",
       "      <td>Polo</td>\n",
       "      <td>VOLKSWAGEN Polo  5p.</td>\n",
       "      <td>6150</td>\n",
       "      <td>NaN</td>\n",
       "      <td>Diésel</td>\n",
       "      <td>2010</td>\n",
       "      <td>130000</td>\n",
       "      <td>NaN</td>\n",
       "      <td>5.0</td>\n",
       "      <td>Manual</td>\n",
       "      <td>Gris / Plata</td>\n",
       "      <td>0</td>\n",
       "      <td>False</td>\n",
       "      <td>E30470AE2226896865B9C6B56A0F85D5</td>\n",
       "    </tr>\n",
       "    <tr>\n",
       "      <th>8</th>\n",
       "      <td>9881BCDD5A0AD4733037B3FB25E69C3A</td>\n",
       "      <td>OPEL</td>\n",
       "      <td>Insignia</td>\n",
       "      <td>OPEL Insignia ST 2.0 CDTI ecoFLEX SS 140 CV Se...</td>\n",
       "      <td>8200</td>\n",
       "      <td>NaN</td>\n",
       "      <td>Diésel</td>\n",
       "      <td>2015</td>\n",
       "      <td>119000</td>\n",
       "      <td>140.0</td>\n",
       "      <td>5.0</td>\n",
       "      <td>Manual</td>\n",
       "      <td>Blanco</td>\n",
       "      <td>6</td>\n",
       "      <td>False</td>\n",
       "      <td>177DACB14B34103960EC27BA29BD686B</td>\n",
       "    </tr>\n",
       "    <tr>\n",
       "      <th>9</th>\n",
       "      <td>9881BCDD5A0AD4733037B3FB25E69C3A</td>\n",
       "      <td>FORD</td>\n",
       "      <td>Focus</td>\n",
       "      <td>FORD Focus  3p.</td>\n",
       "      <td>700</td>\n",
       "      <td>NaN</td>\n",
       "      <td>Gasolina</td>\n",
       "      <td>2001</td>\n",
       "      <td>256000</td>\n",
       "      <td>NaN</td>\n",
       "      <td>3.0</td>\n",
       "      <td>Manual</td>\n",
       "      <td>Negro</td>\n",
       "      <td>0</td>\n",
       "      <td>False</td>\n",
       "      <td>AAE039D6AA239CFC121357A825210FA3</td>\n",
       "    </tr>\n",
       "  </tbody>\n",
       "</table>\n",
       "</div>"
      ],
      "text/plain": [
       "                            company           make     model  \\\n",
       "0  9881BCDD5A0AD4733037B3FB25E69C3A            KIA  Carnival   \n",
       "1  9881BCDD5A0AD4733037B3FB25E69C3A            BMW   Serie 5   \n",
       "2  9881BCDD5A0AD4733037B3FB25E69C3A           FIAT       500   \n",
       "3  9881BCDD5A0AD4733037B3FB25E69C3A           OPEL     Astra   \n",
       "4  9881BCDD5A0AD4733037B3FB25E69C3A  MERCEDES-BENZ   Clase C   \n",
       "5  9881BCDD5A0AD4733037B3FB25E69C3A           OPEL    Zafira   \n",
       "6  9881BCDD5A0AD4733037B3FB25E69C3A        PEUGEOT      3008   \n",
       "7  9881BCDD5A0AD4733037B3FB25E69C3A     VOLKSWAGEN      Polo   \n",
       "8  9881BCDD5A0AD4733037B3FB25E69C3A           OPEL  Insignia   \n",
       "9  9881BCDD5A0AD4733037B3FB25E69C3A           FORD     Focus   \n",
       "\n",
       "                                             version  price  price_financed  \\\n",
       "0                   KIA Carnival 2.9 CRDi VGT EX 5p.   4860          4860.0   \n",
       "1                                   BMW Serie 5  4p.   1800             NaN   \n",
       "2               FIAT 500 1.2 8v 51kW 69CV Lounge 3p.   6490          6490.0   \n",
       "3                                    OPEL Astra  3p.   5550             NaN   \n",
       "4     MERCEDES-BENZ Clase C C 220 CDI AVANTGARDE 4p.  11990         11490.0   \n",
       "5                                   OPEL Zafira  5p.   1000             NaN   \n",
       "6     PEUGEOT 3008 1.2 PURETECH 130 HP ALLURE SS 5p.  25400         23400.0   \n",
       "7                               VOLKSWAGEN Polo  5p.   6150             NaN   \n",
       "8  OPEL Insignia ST 2.0 CDTI ecoFLEX SS 140 CV Se...   8200             NaN   \n",
       "9                                    FORD Focus  3p.    700             NaN   \n",
       "\n",
       "       fuel  year     kms  power  doors       shift              color  \\\n",
       "0    Diésel  2007  221000  185.0    5.0      Manual  Beige (champagne)   \n",
       "1    Diésel  2001  205000    NaN    4.0      Manual              Verde   \n",
       "2  Gasolina  2017   75000   69.0    3.0      Manual              Negro   \n",
       "3    Diésel  2009  137000    NaN    3.0      Manual               Rojo   \n",
       "4    Diésel  2008   95000  170.0    4.0  Automático       Gris / Plata   \n",
       "5    Diésel  2002  400000    NaN    5.0      Manual       Gris / Plata   \n",
       "6  Gasolina  2020       0  130.0    5.0      Manual             Blanco   \n",
       "7    Diésel  2010  130000    NaN    5.0      Manual       Gris / Plata   \n",
       "8    Diésel  2015  119000  140.0    5.0      Manual             Blanco   \n",
       "9  Gasolina  2001  256000    NaN    3.0      Manual              Negro   \n",
       "\n",
       "   photos  is_professional                            dealer  \n",
       "0       8             True                          VM Motor  \n",
       "1       0            False  3F128E570B3A9009D7B52A0523AF43DD  \n",
       "2       7             True                  LAS PALMAS MOTOR  \n",
       "3       0            False  22003DEA67E7C5BE6022A29E677668BC  \n",
       "4      21             True                       Autos Lipiz  \n",
       "5       0            False  BC2AB28E4CDA984CA76646874371E864  \n",
       "6       9             True                    Peugeot Beycar  \n",
       "7       0            False  E30470AE2226896865B9C6B56A0F85D5  \n",
       "8       6            False  177DACB14B34103960EC27BA29BD686B  \n",
       "9       0            False  AAE039D6AA239CFC121357A825210FA3  "
      ]
     },
     "execution_count": 16,
     "metadata": {},
     "output_type": "execute_result"
    }
   ],
   "source": [
    "datos.head(10)"
   ]
  },
  {
   "cell_type": "markdown",
   "id": "0e0b5768",
   "metadata": {},
   "source": [
    "Aqui podemos ver que la dimensión de la base ahora es de 5000 filas por 16 columnas. Vemos las columnas que quedaron y un ejemplo de lo primeros 10 datos de esta base."
   ]
  },
  {
   "cell_type": "markdown",
   "id": "6de6c17c",
   "metadata": {},
   "source": [
    "# Limpieza de datos - Eliminar NA's\n",
    "Como parte de la limpieza de los datos vamos a buscar celdas vacias y de encontrarlas vamos a retirarlas del dataset. Primero se busca las celdas con información faltante y se hace un recuento de estas por variable"
   ]
  },
  {
   "cell_type": "code",
   "execution_count": 17,
   "id": "b31e11f4",
   "metadata": {
    "scrolled": true
   },
   "outputs": [
    {
     "data": {
      "text/html": [
       "<div>\n",
       "<style scoped>\n",
       "    .dataframe tbody tr th:only-of-type {\n",
       "        vertical-align: middle;\n",
       "    }\n",
       "\n",
       "    .dataframe tbody tr th {\n",
       "        vertical-align: top;\n",
       "    }\n",
       "\n",
       "    .dataframe thead th {\n",
       "        text-align: right;\n",
       "    }\n",
       "</style>\n",
       "<table border=\"1\" class=\"dataframe\">\n",
       "  <thead>\n",
       "    <tr style=\"text-align: right;\">\n",
       "      <th></th>\n",
       "      <th>company</th>\n",
       "      <th>make</th>\n",
       "      <th>model</th>\n",
       "      <th>version</th>\n",
       "      <th>price</th>\n",
       "      <th>price_financed</th>\n",
       "      <th>fuel</th>\n",
       "      <th>year</th>\n",
       "      <th>kms</th>\n",
       "      <th>power</th>\n",
       "      <th>doors</th>\n",
       "      <th>shift</th>\n",
       "      <th>color</th>\n",
       "      <th>photos</th>\n",
       "      <th>is_professional</th>\n",
       "      <th>dealer</th>\n",
       "    </tr>\n",
       "  </thead>\n",
       "  <tbody>\n",
       "    <tr>\n",
       "      <th>0</th>\n",
       "      <td>False</td>\n",
       "      <td>False</td>\n",
       "      <td>False</td>\n",
       "      <td>False</td>\n",
       "      <td>False</td>\n",
       "      <td>False</td>\n",
       "      <td>False</td>\n",
       "      <td>False</td>\n",
       "      <td>False</td>\n",
       "      <td>False</td>\n",
       "      <td>False</td>\n",
       "      <td>False</td>\n",
       "      <td>False</td>\n",
       "      <td>False</td>\n",
       "      <td>False</td>\n",
       "      <td>False</td>\n",
       "    </tr>\n",
       "    <tr>\n",
       "      <th>1</th>\n",
       "      <td>False</td>\n",
       "      <td>False</td>\n",
       "      <td>False</td>\n",
       "      <td>False</td>\n",
       "      <td>False</td>\n",
       "      <td>True</td>\n",
       "      <td>False</td>\n",
       "      <td>False</td>\n",
       "      <td>False</td>\n",
       "      <td>True</td>\n",
       "      <td>False</td>\n",
       "      <td>False</td>\n",
       "      <td>False</td>\n",
       "      <td>False</td>\n",
       "      <td>False</td>\n",
       "      <td>False</td>\n",
       "    </tr>\n",
       "    <tr>\n",
       "      <th>2</th>\n",
       "      <td>False</td>\n",
       "      <td>False</td>\n",
       "      <td>False</td>\n",
       "      <td>False</td>\n",
       "      <td>False</td>\n",
       "      <td>False</td>\n",
       "      <td>False</td>\n",
       "      <td>False</td>\n",
       "      <td>False</td>\n",
       "      <td>False</td>\n",
       "      <td>False</td>\n",
       "      <td>False</td>\n",
       "      <td>False</td>\n",
       "      <td>False</td>\n",
       "      <td>False</td>\n",
       "      <td>False</td>\n",
       "    </tr>\n",
       "    <tr>\n",
       "      <th>3</th>\n",
       "      <td>False</td>\n",
       "      <td>False</td>\n",
       "      <td>False</td>\n",
       "      <td>False</td>\n",
       "      <td>False</td>\n",
       "      <td>True</td>\n",
       "      <td>False</td>\n",
       "      <td>False</td>\n",
       "      <td>False</td>\n",
       "      <td>True</td>\n",
       "      <td>False</td>\n",
       "      <td>False</td>\n",
       "      <td>False</td>\n",
       "      <td>False</td>\n",
       "      <td>False</td>\n",
       "      <td>False</td>\n",
       "    </tr>\n",
       "    <tr>\n",
       "      <th>4</th>\n",
       "      <td>False</td>\n",
       "      <td>False</td>\n",
       "      <td>False</td>\n",
       "      <td>False</td>\n",
       "      <td>False</td>\n",
       "      <td>False</td>\n",
       "      <td>False</td>\n",
       "      <td>False</td>\n",
       "      <td>False</td>\n",
       "      <td>False</td>\n",
       "      <td>False</td>\n",
       "      <td>False</td>\n",
       "      <td>False</td>\n",
       "      <td>False</td>\n",
       "      <td>False</td>\n",
       "      <td>False</td>\n",
       "    </tr>\n",
       "    <tr>\n",
       "      <th>...</th>\n",
       "      <td>...</td>\n",
       "      <td>...</td>\n",
       "      <td>...</td>\n",
       "      <td>...</td>\n",
       "      <td>...</td>\n",
       "      <td>...</td>\n",
       "      <td>...</td>\n",
       "      <td>...</td>\n",
       "      <td>...</td>\n",
       "      <td>...</td>\n",
       "      <td>...</td>\n",
       "      <td>...</td>\n",
       "      <td>...</td>\n",
       "      <td>...</td>\n",
       "      <td>...</td>\n",
       "      <td>...</td>\n",
       "    </tr>\n",
       "    <tr>\n",
       "      <th>4995</th>\n",
       "      <td>False</td>\n",
       "      <td>False</td>\n",
       "      <td>False</td>\n",
       "      <td>False</td>\n",
       "      <td>False</td>\n",
       "      <td>False</td>\n",
       "      <td>False</td>\n",
       "      <td>False</td>\n",
       "      <td>False</td>\n",
       "      <td>False</td>\n",
       "      <td>False</td>\n",
       "      <td>False</td>\n",
       "      <td>False</td>\n",
       "      <td>False</td>\n",
       "      <td>False</td>\n",
       "      <td>False</td>\n",
       "    </tr>\n",
       "    <tr>\n",
       "      <th>4996</th>\n",
       "      <td>False</td>\n",
       "      <td>False</td>\n",
       "      <td>False</td>\n",
       "      <td>False</td>\n",
       "      <td>False</td>\n",
       "      <td>True</td>\n",
       "      <td>False</td>\n",
       "      <td>False</td>\n",
       "      <td>False</td>\n",
       "      <td>False</td>\n",
       "      <td>False</td>\n",
       "      <td>False</td>\n",
       "      <td>False</td>\n",
       "      <td>False</td>\n",
       "      <td>False</td>\n",
       "      <td>False</td>\n",
       "    </tr>\n",
       "    <tr>\n",
       "      <th>4997</th>\n",
       "      <td>False</td>\n",
       "      <td>False</td>\n",
       "      <td>False</td>\n",
       "      <td>False</td>\n",
       "      <td>False</td>\n",
       "      <td>True</td>\n",
       "      <td>False</td>\n",
       "      <td>False</td>\n",
       "      <td>False</td>\n",
       "      <td>True</td>\n",
       "      <td>False</td>\n",
       "      <td>False</td>\n",
       "      <td>False</td>\n",
       "      <td>False</td>\n",
       "      <td>False</td>\n",
       "      <td>False</td>\n",
       "    </tr>\n",
       "    <tr>\n",
       "      <th>4998</th>\n",
       "      <td>False</td>\n",
       "      <td>False</td>\n",
       "      <td>False</td>\n",
       "      <td>False</td>\n",
       "      <td>False</td>\n",
       "      <td>False</td>\n",
       "      <td>False</td>\n",
       "      <td>False</td>\n",
       "      <td>False</td>\n",
       "      <td>False</td>\n",
       "      <td>False</td>\n",
       "      <td>False</td>\n",
       "      <td>False</td>\n",
       "      <td>False</td>\n",
       "      <td>False</td>\n",
       "      <td>False</td>\n",
       "    </tr>\n",
       "    <tr>\n",
       "      <th>4999</th>\n",
       "      <td>False</td>\n",
       "      <td>False</td>\n",
       "      <td>False</td>\n",
       "      <td>False</td>\n",
       "      <td>False</td>\n",
       "      <td>True</td>\n",
       "      <td>False</td>\n",
       "      <td>False</td>\n",
       "      <td>False</td>\n",
       "      <td>False</td>\n",
       "      <td>False</td>\n",
       "      <td>False</td>\n",
       "      <td>False</td>\n",
       "      <td>False</td>\n",
       "      <td>False</td>\n",
       "      <td>False</td>\n",
       "    </tr>\n",
       "  </tbody>\n",
       "</table>\n",
       "<p>5000 rows × 16 columns</p>\n",
       "</div>"
      ],
      "text/plain": [
       "      company   make  model  version  price  price_financed   fuel   year  \\\n",
       "0       False  False  False    False  False           False  False  False   \n",
       "1       False  False  False    False  False            True  False  False   \n",
       "2       False  False  False    False  False           False  False  False   \n",
       "3       False  False  False    False  False            True  False  False   \n",
       "4       False  False  False    False  False           False  False  False   \n",
       "...       ...    ...    ...      ...    ...             ...    ...    ...   \n",
       "4995    False  False  False    False  False           False  False  False   \n",
       "4996    False  False  False    False  False            True  False  False   \n",
       "4997    False  False  False    False  False            True  False  False   \n",
       "4998    False  False  False    False  False           False  False  False   \n",
       "4999    False  False  False    False  False            True  False  False   \n",
       "\n",
       "        kms  power  doors  shift  color  photos  is_professional  dealer  \n",
       "0     False  False  False  False  False   False            False   False  \n",
       "1     False   True  False  False  False   False            False   False  \n",
       "2     False  False  False  False  False   False            False   False  \n",
       "3     False   True  False  False  False   False            False   False  \n",
       "4     False  False  False  False  False   False            False   False  \n",
       "...     ...    ...    ...    ...    ...     ...              ...     ...  \n",
       "4995  False  False  False  False  False   False            False   False  \n",
       "4996  False  False  False  False  False   False            False   False  \n",
       "4997  False   True  False  False  False   False            False   False  \n",
       "4998  False  False  False  False  False   False            False   False  \n",
       "4999  False  False  False  False  False   False            False   False  \n",
       "\n",
       "[5000 rows x 16 columns]"
      ]
     },
     "execution_count": 17,
     "metadata": {},
     "output_type": "execute_result"
    }
   ],
   "source": [
    "datos.isna()"
   ]
  },
  {
   "cell_type": "code",
   "execution_count": 18,
   "id": "ca997ad6",
   "metadata": {
    "scrolled": true
   },
   "outputs": [
    {
     "data": {
      "text/plain": [
       "company               0\n",
       "make                  0\n",
       "model                 4\n",
       "version               0\n",
       "price                 0\n",
       "price_financed     2732\n",
       "fuel                  8\n",
       "year                  0\n",
       "kms                   0\n",
       "power               946\n",
       "doors                 4\n",
       "shift                10\n",
       "color                58\n",
       "photos                0\n",
       "is_professional       0\n",
       "dealer                0\n",
       "dtype: int64"
      ]
     },
     "execution_count": 18,
     "metadata": {},
     "output_type": "execute_result"
    }
   ],
   "source": [
    "datos.isna().sum()"
   ]
  },
  {
   "cell_type": "markdown",
   "id": "076f9c11",
   "metadata": {},
   "source": [
    "De las salidas anteriores podemos concluir que exiten variables con información faltante, sin embargo la  variables 'price_financed' posee 2732 NA's y 'power' con 946. Por el tamaño de información faltante en el precio de financiación, se prefiere retirar esta variable."
   ]
  },
  {
   "cell_type": "code",
   "execution_count": 19,
   "id": "3db66838",
   "metadata": {},
   "outputs": [],
   "source": [
    "datos = datos.drop('price_financed', axis=1)"
   ]
  },
  {
   "cell_type": "code",
   "execution_count": 20,
   "id": "8ea8eebe",
   "metadata": {},
   "outputs": [
    {
     "data": {
      "text/plain": [
       "(5000, 15)"
      ]
     },
     "execution_count": 20,
     "metadata": {},
     "output_type": "execute_result"
    }
   ],
   "source": [
    "datos.shape"
   ]
  },
  {
   "cell_type": "code",
   "execution_count": 21,
   "id": "4574c00e",
   "metadata": {},
   "outputs": [
    {
     "data": {
      "text/plain": [
       "Index(['company', 'make', 'model', 'version', 'price', 'fuel', 'year', 'kms',\n",
       "       'power', 'doors', 'shift', 'color', 'photos', 'is_professional',\n",
       "       'dealer'],\n",
       "      dtype='object')"
      ]
     },
     "execution_count": 21,
     "metadata": {},
     "output_type": "execute_result"
    }
   ],
   "source": [
    "datos.columns"
   ]
  },
  {
   "cell_type": "code",
   "execution_count": 22,
   "id": "b9aae753",
   "metadata": {},
   "outputs": [
    {
     "data": {
      "text/plain": [
       "company              0\n",
       "make                 0\n",
       "model                4\n",
       "version              0\n",
       "price                0\n",
       "fuel                 8\n",
       "year                 0\n",
       "kms                  0\n",
       "power              946\n",
       "doors                4\n",
       "shift               10\n",
       "color               58\n",
       "photos               0\n",
       "is_professional      0\n",
       "dealer               0\n",
       "dtype: int64"
      ]
     },
     "execution_count": 22,
     "metadata": {},
     "output_type": "execute_result"
    }
   ],
   "source": [
    "datos.isna().sum()"
   ]
  },
  {
   "cell_type": "markdown",
   "id": "9e461e00",
   "metadata": {},
   "source": [
    "## Datos sin NA's\n",
    "Ahora bien los datos faltantes en las demás variables no ameritan retirar la variable por falta de información pero si se van a retirar a dichos individuos que no tienen su información completa"
   ]
  },
  {
   "cell_type": "code",
   "execution_count": 23,
   "id": "c48ab9e0",
   "metadata": {},
   "outputs": [],
   "source": [
    "datos_sinNA = datos.dropna()"
   ]
  },
  {
   "cell_type": "code",
   "execution_count": 24,
   "id": "eea45d77",
   "metadata": {},
   "outputs": [
    {
     "data": {
      "text/plain": [
       "(4045, 15)"
      ]
     },
     "execution_count": 24,
     "metadata": {},
     "output_type": "execute_result"
    }
   ],
   "source": [
    "datos_sinNA.shape"
   ]
  },
  {
   "cell_type": "code",
   "execution_count": 25,
   "id": "dae7baf1",
   "metadata": {
    "scrolled": true
   },
   "outputs": [
    {
     "data": {
      "text/html": [
       "<div>\n",
       "<style scoped>\n",
       "    .dataframe tbody tr th:only-of-type {\n",
       "        vertical-align: middle;\n",
       "    }\n",
       "\n",
       "    .dataframe tbody tr th {\n",
       "        vertical-align: top;\n",
       "    }\n",
       "\n",
       "    .dataframe thead th {\n",
       "        text-align: right;\n",
       "    }\n",
       "</style>\n",
       "<table border=\"1\" class=\"dataframe\">\n",
       "  <thead>\n",
       "    <tr style=\"text-align: right;\">\n",
       "      <th></th>\n",
       "      <th>company</th>\n",
       "      <th>make</th>\n",
       "      <th>model</th>\n",
       "      <th>version</th>\n",
       "      <th>price</th>\n",
       "      <th>fuel</th>\n",
       "      <th>year</th>\n",
       "      <th>kms</th>\n",
       "      <th>power</th>\n",
       "      <th>doors</th>\n",
       "      <th>shift</th>\n",
       "      <th>color</th>\n",
       "      <th>photos</th>\n",
       "      <th>is_professional</th>\n",
       "      <th>dealer</th>\n",
       "    </tr>\n",
       "  </thead>\n",
       "  <tbody>\n",
       "    <tr>\n",
       "      <th>0</th>\n",
       "      <td>9881BCDD5A0AD4733037B3FB25E69C3A</td>\n",
       "      <td>KIA</td>\n",
       "      <td>Carnival</td>\n",
       "      <td>KIA Carnival 2.9 CRDi VGT EX 5p.</td>\n",
       "      <td>4860</td>\n",
       "      <td>Diésel</td>\n",
       "      <td>2007</td>\n",
       "      <td>221000</td>\n",
       "      <td>185.0</td>\n",
       "      <td>5.0</td>\n",
       "      <td>Manual</td>\n",
       "      <td>Beige (champagne)</td>\n",
       "      <td>8</td>\n",
       "      <td>True</td>\n",
       "      <td>VM Motor</td>\n",
       "    </tr>\n",
       "    <tr>\n",
       "      <th>2</th>\n",
       "      <td>9881BCDD5A0AD4733037B3FB25E69C3A</td>\n",
       "      <td>FIAT</td>\n",
       "      <td>500</td>\n",
       "      <td>FIAT 500 1.2 8v 51kW 69CV Lounge 3p.</td>\n",
       "      <td>6490</td>\n",
       "      <td>Gasolina</td>\n",
       "      <td>2017</td>\n",
       "      <td>75000</td>\n",
       "      <td>69.0</td>\n",
       "      <td>3.0</td>\n",
       "      <td>Manual</td>\n",
       "      <td>Negro</td>\n",
       "      <td>7</td>\n",
       "      <td>True</td>\n",
       "      <td>LAS PALMAS MOTOR</td>\n",
       "    </tr>\n",
       "    <tr>\n",
       "      <th>4</th>\n",
       "      <td>9881BCDD5A0AD4733037B3FB25E69C3A</td>\n",
       "      <td>MERCEDES-BENZ</td>\n",
       "      <td>Clase C</td>\n",
       "      <td>MERCEDES-BENZ Clase C C 220 CDI AVANTGARDE 4p.</td>\n",
       "      <td>11990</td>\n",
       "      <td>Diésel</td>\n",
       "      <td>2008</td>\n",
       "      <td>95000</td>\n",
       "      <td>170.0</td>\n",
       "      <td>4.0</td>\n",
       "      <td>Automático</td>\n",
       "      <td>Gris / Plata</td>\n",
       "      <td>21</td>\n",
       "      <td>True</td>\n",
       "      <td>Autos Lipiz</td>\n",
       "    </tr>\n",
       "    <tr>\n",
       "      <th>6</th>\n",
       "      <td>9881BCDD5A0AD4733037B3FB25E69C3A</td>\n",
       "      <td>PEUGEOT</td>\n",
       "      <td>3008</td>\n",
       "      <td>PEUGEOT 3008 1.2 PURETECH 130 HP ALLURE SS 5p.</td>\n",
       "      <td>25400</td>\n",
       "      <td>Gasolina</td>\n",
       "      <td>2020</td>\n",
       "      <td>0</td>\n",
       "      <td>130.0</td>\n",
       "      <td>5.0</td>\n",
       "      <td>Manual</td>\n",
       "      <td>Blanco</td>\n",
       "      <td>9</td>\n",
       "      <td>True</td>\n",
       "      <td>Peugeot Beycar</td>\n",
       "    </tr>\n",
       "    <tr>\n",
       "      <th>8</th>\n",
       "      <td>9881BCDD5A0AD4733037B3FB25E69C3A</td>\n",
       "      <td>OPEL</td>\n",
       "      <td>Insignia</td>\n",
       "      <td>OPEL Insignia ST 2.0 CDTI ecoFLEX SS 140 CV Se...</td>\n",
       "      <td>8200</td>\n",
       "      <td>Diésel</td>\n",
       "      <td>2015</td>\n",
       "      <td>119000</td>\n",
       "      <td>140.0</td>\n",
       "      <td>5.0</td>\n",
       "      <td>Manual</td>\n",
       "      <td>Blanco</td>\n",
       "      <td>6</td>\n",
       "      <td>False</td>\n",
       "      <td>177DACB14B34103960EC27BA29BD686B</td>\n",
       "    </tr>\n",
       "    <tr>\n",
       "      <th>...</th>\n",
       "      <td>...</td>\n",
       "      <td>...</td>\n",
       "      <td>...</td>\n",
       "      <td>...</td>\n",
       "      <td>...</td>\n",
       "      <td>...</td>\n",
       "      <td>...</td>\n",
       "      <td>...</td>\n",
       "      <td>...</td>\n",
       "      <td>...</td>\n",
       "      <td>...</td>\n",
       "      <td>...</td>\n",
       "      <td>...</td>\n",
       "      <td>...</td>\n",
       "      <td>...</td>\n",
       "    </tr>\n",
       "    <tr>\n",
       "      <th>4993</th>\n",
       "      <td>9881BCDD5A0AD4733037B3FB25E69C3A</td>\n",
       "      <td>AUDI</td>\n",
       "      <td>A4</td>\n",
       "      <td>AUDI A4 2.0 TDI 150cv multitronic 4p.</td>\n",
       "      <td>16500</td>\n",
       "      <td>Diésel</td>\n",
       "      <td>2014</td>\n",
       "      <td>128000</td>\n",
       "      <td>150.0</td>\n",
       "      <td>4.0</td>\n",
       "      <td>Automático</td>\n",
       "      <td>Negro</td>\n",
       "      <td>20</td>\n",
       "      <td>False</td>\n",
       "      <td>63FB1088241B0ACDD7987AF0C1F4F7E6</td>\n",
       "    </tr>\n",
       "    <tr>\n",
       "      <th>4995</th>\n",
       "      <td>9881BCDD5A0AD4733037B3FB25E69C3A</td>\n",
       "      <td>OPEL</td>\n",
       "      <td>Corsa</td>\n",
       "      <td>OPEL Corsa 1.4 66kW 90CV Selective 5p.</td>\n",
       "      <td>10200</td>\n",
       "      <td>Gasolina</td>\n",
       "      <td>2018</td>\n",
       "      <td>18318</td>\n",
       "      <td>90.0</td>\n",
       "      <td>5.0</td>\n",
       "      <td>Manual</td>\n",
       "      <td>Blanco (Alpino)</td>\n",
       "      <td>32</td>\n",
       "      <td>True</td>\n",
       "      <td>Vara de Quart</td>\n",
       "    </tr>\n",
       "    <tr>\n",
       "      <th>4996</th>\n",
       "      <td>9881BCDD5A0AD4733037B3FB25E69C3A</td>\n",
       "      <td>TOYOTA</td>\n",
       "      <td>Auris</td>\n",
       "      <td>TOYOTA Auris 1.2 120T Active Touring Sports 5p.</td>\n",
       "      <td>7650</td>\n",
       "      <td>Gasolina</td>\n",
       "      <td>2016</td>\n",
       "      <td>157000</td>\n",
       "      <td>116.0</td>\n",
       "      <td>5.0</td>\n",
       "      <td>Manual</td>\n",
       "      <td>Azul</td>\n",
       "      <td>5</td>\n",
       "      <td>False</td>\n",
       "      <td>9448B9C35DDD44F451DC88E988CC3A03</td>\n",
       "    </tr>\n",
       "    <tr>\n",
       "      <th>4998</th>\n",
       "      <td>9881BCDD5A0AD4733037B3FB25E69C3A</td>\n",
       "      <td>MERCEDES-BENZ</td>\n",
       "      <td>GLC Coupé</td>\n",
       "      <td>MERCEDES-BENZ GLC Coupe GLC 220 d 4MATIC 5p.</td>\n",
       "      <td>49900</td>\n",
       "      <td>Diésel</td>\n",
       "      <td>2019</td>\n",
       "      <td>15</td>\n",
       "      <td>170.0</td>\n",
       "      <td>5.0</td>\n",
       "      <td>Automático</td>\n",
       "      <td>Gris / Plata</td>\n",
       "      <td>11</td>\n",
       "      <td>True</td>\n",
       "      <td>Autocas Mercedes Benz</td>\n",
       "    </tr>\n",
       "    <tr>\n",
       "      <th>4999</th>\n",
       "      <td>9881BCDD5A0AD4733037B3FB25E69C3A</td>\n",
       "      <td>MERCEDES-BENZ</td>\n",
       "      <td>Clase SL</td>\n",
       "      <td>MERCEDES-BENZ Clase SL SL 500 2p.</td>\n",
       "      <td>12950</td>\n",
       "      <td>Gasolina</td>\n",
       "      <td>2003</td>\n",
       "      <td>129000</td>\n",
       "      <td>306.0</td>\n",
       "      <td>2.0</td>\n",
       "      <td>Automático</td>\n",
       "      <td>Negro</td>\n",
       "      <td>30</td>\n",
       "      <td>True</td>\n",
       "      <td>Autofesa</td>\n",
       "    </tr>\n",
       "  </tbody>\n",
       "</table>\n",
       "<p>4045 rows × 15 columns</p>\n",
       "</div>"
      ],
      "text/plain": [
       "                               company           make      model  \\\n",
       "0     9881BCDD5A0AD4733037B3FB25E69C3A            KIA   Carnival   \n",
       "2     9881BCDD5A0AD4733037B3FB25E69C3A           FIAT        500   \n",
       "4     9881BCDD5A0AD4733037B3FB25E69C3A  MERCEDES-BENZ    Clase C   \n",
       "6     9881BCDD5A0AD4733037B3FB25E69C3A        PEUGEOT       3008   \n",
       "8     9881BCDD5A0AD4733037B3FB25E69C3A           OPEL   Insignia   \n",
       "...                                ...            ...        ...   \n",
       "4993  9881BCDD5A0AD4733037B3FB25E69C3A           AUDI         A4   \n",
       "4995  9881BCDD5A0AD4733037B3FB25E69C3A           OPEL      Corsa   \n",
       "4996  9881BCDD5A0AD4733037B3FB25E69C3A         TOYOTA      Auris   \n",
       "4998  9881BCDD5A0AD4733037B3FB25E69C3A  MERCEDES-BENZ  GLC Coupé   \n",
       "4999  9881BCDD5A0AD4733037B3FB25E69C3A  MERCEDES-BENZ   Clase SL   \n",
       "\n",
       "                                                version  price      fuel  \\\n",
       "0                      KIA Carnival 2.9 CRDi VGT EX 5p.   4860    Diésel   \n",
       "2                  FIAT 500 1.2 8v 51kW 69CV Lounge 3p.   6490  Gasolina   \n",
       "4        MERCEDES-BENZ Clase C C 220 CDI AVANTGARDE 4p.  11990    Diésel   \n",
       "6        PEUGEOT 3008 1.2 PURETECH 130 HP ALLURE SS 5p.  25400  Gasolina   \n",
       "8     OPEL Insignia ST 2.0 CDTI ecoFLEX SS 140 CV Se...   8200    Diésel   \n",
       "...                                                 ...    ...       ...   \n",
       "4993              AUDI A4 2.0 TDI 150cv multitronic 4p.  16500    Diésel   \n",
       "4995             OPEL Corsa 1.4 66kW 90CV Selective 5p.  10200  Gasolina   \n",
       "4996    TOYOTA Auris 1.2 120T Active Touring Sports 5p.   7650  Gasolina   \n",
       "4998       MERCEDES-BENZ GLC Coupe GLC 220 d 4MATIC 5p.  49900    Diésel   \n",
       "4999                  MERCEDES-BENZ Clase SL SL 500 2p.  12950  Gasolina   \n",
       "\n",
       "      year     kms  power  doors       shift              color  photos  \\\n",
       "0     2007  221000  185.0    5.0      Manual  Beige (champagne)       8   \n",
       "2     2017   75000   69.0    3.0      Manual              Negro       7   \n",
       "4     2008   95000  170.0    4.0  Automático       Gris / Plata      21   \n",
       "6     2020       0  130.0    5.0      Manual             Blanco       9   \n",
       "8     2015  119000  140.0    5.0      Manual             Blanco       6   \n",
       "...    ...     ...    ...    ...         ...                ...     ...   \n",
       "4993  2014  128000  150.0    4.0  Automático              Negro      20   \n",
       "4995  2018   18318   90.0    5.0      Manual    Blanco (Alpino)      32   \n",
       "4996  2016  157000  116.0    5.0      Manual               Azul       5   \n",
       "4998  2019      15  170.0    5.0  Automático       Gris / Plata      11   \n",
       "4999  2003  129000  306.0    2.0  Automático              Negro      30   \n",
       "\n",
       "      is_professional                            dealer  \n",
       "0                True                          VM Motor  \n",
       "2                True                  LAS PALMAS MOTOR  \n",
       "4                True                       Autos Lipiz  \n",
       "6                True                    Peugeot Beycar  \n",
       "8               False  177DACB14B34103960EC27BA29BD686B  \n",
       "...               ...                               ...  \n",
       "4993            False  63FB1088241B0ACDD7987AF0C1F4F7E6  \n",
       "4995             True                     Vara de Quart  \n",
       "4996            False  9448B9C35DDD44F451DC88E988CC3A03  \n",
       "4998             True             Autocas Mercedes Benz  \n",
       "4999             True                          Autofesa  \n",
       "\n",
       "[4045 rows x 15 columns]"
      ]
     },
     "execution_count": 25,
     "metadata": {},
     "output_type": "execute_result"
    }
   ],
   "source": [
    "base= datos_sinNA\n",
    "base"
   ]
  },
  {
   "cell_type": "markdown",
   "id": "aa28edb5",
   "metadata": {},
   "source": [
    "Cabe anotar que no se removieron outliers debido a que para la base que se esta tratando no se encuentran datos negativos, entonces aquellos datos que son positivos muy grandes se dejan para realizar el estudio respectivo."
   ]
  },
  {
   "cell_type": "code",
   "execution_count": 26,
   "id": "a4666dc2",
   "metadata": {},
   "outputs": [
    {
     "data": {
      "text/html": [
       "<div>\n",
       "<style scoped>\n",
       "    .dataframe tbody tr th:only-of-type {\n",
       "        vertical-align: middle;\n",
       "    }\n",
       "\n",
       "    .dataframe tbody tr th {\n",
       "        vertical-align: top;\n",
       "    }\n",
       "\n",
       "    .dataframe thead th {\n",
       "        text-align: right;\n",
       "    }\n",
       "</style>\n",
       "<table border=\"1\" class=\"dataframe\">\n",
       "  <thead>\n",
       "    <tr style=\"text-align: right;\">\n",
       "      <th></th>\n",
       "      <th>price</th>\n",
       "      <th>year</th>\n",
       "      <th>kms</th>\n",
       "      <th>power</th>\n",
       "      <th>doors</th>\n",
       "      <th>photos</th>\n",
       "    </tr>\n",
       "  </thead>\n",
       "  <tbody>\n",
       "    <tr>\n",
       "      <th>count</th>\n",
       "      <td>4045.000000</td>\n",
       "      <td>4045.000000</td>\n",
       "      <td>4045.000000</td>\n",
       "      <td>4045.000000</td>\n",
       "      <td>4045.000000</td>\n",
       "      <td>4045.000000</td>\n",
       "    </tr>\n",
       "    <tr>\n",
       "      <th>mean</th>\n",
       "      <td>17449.536465</td>\n",
       "      <td>2013.874660</td>\n",
       "      <td>97549.776761</td>\n",
       "      <td>146.143387</td>\n",
       "      <td>4.525340</td>\n",
       "      <td>18.418789</td>\n",
       "    </tr>\n",
       "    <tr>\n",
       "      <th>std</th>\n",
       "      <td>15950.274503</td>\n",
       "      <td>5.850585</td>\n",
       "      <td>83305.770505</td>\n",
       "      <td>70.846428</td>\n",
       "      <td>0.857943</td>\n",
       "      <td>12.291411</td>\n",
       "    </tr>\n",
       "    <tr>\n",
       "      <th>min</th>\n",
       "      <td>300.000000</td>\n",
       "      <td>1982.000000</td>\n",
       "      <td>0.000000</td>\n",
       "      <td>38.000000</td>\n",
       "      <td>2.000000</td>\n",
       "      <td>0.000000</td>\n",
       "    </tr>\n",
       "    <tr>\n",
       "      <th>25%</th>\n",
       "      <td>7995.000000</td>\n",
       "      <td>2010.000000</td>\n",
       "      <td>26653.000000</td>\n",
       "      <td>109.000000</td>\n",
       "      <td>4.000000</td>\n",
       "      <td>9.000000</td>\n",
       "    </tr>\n",
       "    <tr>\n",
       "      <th>50%</th>\n",
       "      <td>14490.000000</td>\n",
       "      <td>2016.000000</td>\n",
       "      <td>82934.000000</td>\n",
       "      <td>130.000000</td>\n",
       "      <td>5.000000</td>\n",
       "      <td>15.000000</td>\n",
       "    </tr>\n",
       "    <tr>\n",
       "      <th>75%</th>\n",
       "      <td>21990.000000</td>\n",
       "      <td>2018.000000</td>\n",
       "      <td>149000.000000</td>\n",
       "      <td>160.000000</td>\n",
       "      <td>5.000000</td>\n",
       "      <td>25.000000</td>\n",
       "    </tr>\n",
       "    <tr>\n",
       "      <th>max</th>\n",
       "      <td>319900.000000</td>\n",
       "      <td>2021.000000</td>\n",
       "      <td>600000.000000</td>\n",
       "      <td>670.000000</td>\n",
       "      <td>5.000000</td>\n",
       "      <td>54.000000</td>\n",
       "    </tr>\n",
       "  </tbody>\n",
       "</table>\n",
       "</div>"
      ],
      "text/plain": [
       "               price         year            kms        power        doors  \\\n",
       "count    4045.000000  4045.000000    4045.000000  4045.000000  4045.000000   \n",
       "mean    17449.536465  2013.874660   97549.776761   146.143387     4.525340   \n",
       "std     15950.274503     5.850585   83305.770505    70.846428     0.857943   \n",
       "min       300.000000  1982.000000       0.000000    38.000000     2.000000   \n",
       "25%      7995.000000  2010.000000   26653.000000   109.000000     4.000000   \n",
       "50%     14490.000000  2016.000000   82934.000000   130.000000     5.000000   \n",
       "75%     21990.000000  2018.000000  149000.000000   160.000000     5.000000   \n",
       "max    319900.000000  2021.000000  600000.000000   670.000000     5.000000   \n",
       "\n",
       "            photos  \n",
       "count  4045.000000  \n",
       "mean     18.418789  \n",
       "std      12.291411  \n",
       "min       0.000000  \n",
       "25%       9.000000  \n",
       "50%      15.000000  \n",
       "75%      25.000000  \n",
       "max      54.000000  "
      ]
     },
     "execution_count": 26,
     "metadata": {},
     "output_type": "execute_result"
    }
   ],
   "source": [
    "base.describe()"
   ]
  },
  {
   "cell_type": "markdown",
   "id": "05f2f2d5",
   "metadata": {},
   "source": [
    "# Análisis de datos\n",
    "Ya que se procesó y se limpió la base de datos, procedemos con el análisis de las variables resultantes, contamos con 15 variables, primero las analizaremos de manera individual observando sus estadísticas descriptivas y algunos gráficos alusivos a comportamiento de las características de los carros.\n",
    "\n",
    "Para esto dividiremos las variables en cuantitativas y cualitativas, en el primer grupo podremos determinar la media, su mínimo, máximo, mediana, percentiles, etc. En las cualitativas observaremos los conteos de las categorías, el número de estas y como estan distribuidas."
   ]
  },
  {
   "cell_type": "markdown",
   "id": "8e9977cf",
   "metadata": {},
   "source": [
    "## Variables Cuantitativas\n",
    "En estas variables tomamos aquellas que son númericas y estan bien representadas en operaciones y se listan a continuación"
   ]
  },
  {
   "cell_type": "code",
   "execution_count": 27,
   "id": "68d23184",
   "metadata": {},
   "outputs": [],
   "source": [
    "cuanti = ['price', 'year', 'kms', 'power', 'doors', 'photos']\n",
    "datos_cuanti = base[cuanti]"
   ]
  },
  {
   "cell_type": "code",
   "execution_count": 28,
   "id": "0bd4cc69",
   "metadata": {
    "scrolled": true
   },
   "outputs": [
    {
     "data": {
      "text/html": [
       "<div>\n",
       "<style scoped>\n",
       "    .dataframe tbody tr th:only-of-type {\n",
       "        vertical-align: middle;\n",
       "    }\n",
       "\n",
       "    .dataframe tbody tr th {\n",
       "        vertical-align: top;\n",
       "    }\n",
       "\n",
       "    .dataframe thead th {\n",
       "        text-align: right;\n",
       "    }\n",
       "</style>\n",
       "<table border=\"1\" class=\"dataframe\">\n",
       "  <thead>\n",
       "    <tr style=\"text-align: right;\">\n",
       "      <th></th>\n",
       "      <th>price</th>\n",
       "      <th>year</th>\n",
       "      <th>kms</th>\n",
       "      <th>power</th>\n",
       "      <th>doors</th>\n",
       "      <th>photos</th>\n",
       "    </tr>\n",
       "  </thead>\n",
       "  <tbody>\n",
       "    <tr>\n",
       "      <th>0</th>\n",
       "      <td>4860</td>\n",
       "      <td>2007</td>\n",
       "      <td>221000</td>\n",
       "      <td>185.0</td>\n",
       "      <td>5.0</td>\n",
       "      <td>8</td>\n",
       "    </tr>\n",
       "    <tr>\n",
       "      <th>2</th>\n",
       "      <td>6490</td>\n",
       "      <td>2017</td>\n",
       "      <td>75000</td>\n",
       "      <td>69.0</td>\n",
       "      <td>3.0</td>\n",
       "      <td>7</td>\n",
       "    </tr>\n",
       "    <tr>\n",
       "      <th>4</th>\n",
       "      <td>11990</td>\n",
       "      <td>2008</td>\n",
       "      <td>95000</td>\n",
       "      <td>170.0</td>\n",
       "      <td>4.0</td>\n",
       "      <td>21</td>\n",
       "    </tr>\n",
       "    <tr>\n",
       "      <th>6</th>\n",
       "      <td>25400</td>\n",
       "      <td>2020</td>\n",
       "      <td>0</td>\n",
       "      <td>130.0</td>\n",
       "      <td>5.0</td>\n",
       "      <td>9</td>\n",
       "    </tr>\n",
       "    <tr>\n",
       "      <th>8</th>\n",
       "      <td>8200</td>\n",
       "      <td>2015</td>\n",
       "      <td>119000</td>\n",
       "      <td>140.0</td>\n",
       "      <td>5.0</td>\n",
       "      <td>6</td>\n",
       "    </tr>\n",
       "    <tr>\n",
       "      <th>...</th>\n",
       "      <td>...</td>\n",
       "      <td>...</td>\n",
       "      <td>...</td>\n",
       "      <td>...</td>\n",
       "      <td>...</td>\n",
       "      <td>...</td>\n",
       "    </tr>\n",
       "    <tr>\n",
       "      <th>4993</th>\n",
       "      <td>16500</td>\n",
       "      <td>2014</td>\n",
       "      <td>128000</td>\n",
       "      <td>150.0</td>\n",
       "      <td>4.0</td>\n",
       "      <td>20</td>\n",
       "    </tr>\n",
       "    <tr>\n",
       "      <th>4995</th>\n",
       "      <td>10200</td>\n",
       "      <td>2018</td>\n",
       "      <td>18318</td>\n",
       "      <td>90.0</td>\n",
       "      <td>5.0</td>\n",
       "      <td>32</td>\n",
       "    </tr>\n",
       "    <tr>\n",
       "      <th>4996</th>\n",
       "      <td>7650</td>\n",
       "      <td>2016</td>\n",
       "      <td>157000</td>\n",
       "      <td>116.0</td>\n",
       "      <td>5.0</td>\n",
       "      <td>5</td>\n",
       "    </tr>\n",
       "    <tr>\n",
       "      <th>4998</th>\n",
       "      <td>49900</td>\n",
       "      <td>2019</td>\n",
       "      <td>15</td>\n",
       "      <td>170.0</td>\n",
       "      <td>5.0</td>\n",
       "      <td>11</td>\n",
       "    </tr>\n",
       "    <tr>\n",
       "      <th>4999</th>\n",
       "      <td>12950</td>\n",
       "      <td>2003</td>\n",
       "      <td>129000</td>\n",
       "      <td>306.0</td>\n",
       "      <td>2.0</td>\n",
       "      <td>30</td>\n",
       "    </tr>\n",
       "  </tbody>\n",
       "</table>\n",
       "<p>4045 rows × 6 columns</p>\n",
       "</div>"
      ],
      "text/plain": [
       "      price  year     kms  power  doors  photos\n",
       "0      4860  2007  221000  185.0    5.0       8\n",
       "2      6490  2017   75000   69.0    3.0       7\n",
       "4     11990  2008   95000  170.0    4.0      21\n",
       "6     25400  2020       0  130.0    5.0       9\n",
       "8      8200  2015  119000  140.0    5.0       6\n",
       "...     ...   ...     ...    ...    ...     ...\n",
       "4993  16500  2014  128000  150.0    4.0      20\n",
       "4995  10200  2018   18318   90.0    5.0      32\n",
       "4996   7650  2016  157000  116.0    5.0       5\n",
       "4998  49900  2019      15  170.0    5.0      11\n",
       "4999  12950  2003  129000  306.0    2.0      30\n",
       "\n",
       "[4045 rows x 6 columns]"
      ]
     },
     "execution_count": 28,
     "metadata": {},
     "output_type": "execute_result"
    }
   ],
   "source": [
    "datos_cuanti"
   ]
  },
  {
   "cell_type": "markdown",
   "id": "3019fc38",
   "metadata": {},
   "source": [
    "## Descripción de variables Cuantitativas\n",
    "Veamos la media, mínimo, desviación estándar, cuartiles y máximo de cada variable cuantitativa. Además podemos también examinar el nivel de asociación que tienen estas variables entre sí, en particular podemos observar que nivel de correlación tienen con la variable precio que en este caso se trata de la característica de mayor interés."
   ]
  },
  {
   "cell_type": "code",
   "execution_count": 29,
   "id": "a84b3a57",
   "metadata": {
    "scrolled": true
   },
   "outputs": [
    {
     "data": {
      "text/html": [
       "<div>\n",
       "<style scoped>\n",
       "    .dataframe tbody tr th:only-of-type {\n",
       "        vertical-align: middle;\n",
       "    }\n",
       "\n",
       "    .dataframe tbody tr th {\n",
       "        vertical-align: top;\n",
       "    }\n",
       "\n",
       "    .dataframe thead th {\n",
       "        text-align: right;\n",
       "    }\n",
       "</style>\n",
       "<table border=\"1\" class=\"dataframe\">\n",
       "  <thead>\n",
       "    <tr style=\"text-align: right;\">\n",
       "      <th></th>\n",
       "      <th>price</th>\n",
       "      <th>year</th>\n",
       "      <th>kms</th>\n",
       "      <th>power</th>\n",
       "      <th>doors</th>\n",
       "      <th>photos</th>\n",
       "    </tr>\n",
       "  </thead>\n",
       "  <tbody>\n",
       "    <tr>\n",
       "      <th>count</th>\n",
       "      <td>4045.000000</td>\n",
       "      <td>4045.000000</td>\n",
       "      <td>4045.000000</td>\n",
       "      <td>4045.000000</td>\n",
       "      <td>4045.000000</td>\n",
       "      <td>4045.000000</td>\n",
       "    </tr>\n",
       "    <tr>\n",
       "      <th>mean</th>\n",
       "      <td>17449.536465</td>\n",
       "      <td>2013.874660</td>\n",
       "      <td>97549.776761</td>\n",
       "      <td>146.143387</td>\n",
       "      <td>4.525340</td>\n",
       "      <td>18.418789</td>\n",
       "    </tr>\n",
       "    <tr>\n",
       "      <th>std</th>\n",
       "      <td>15950.274503</td>\n",
       "      <td>5.850585</td>\n",
       "      <td>83305.770505</td>\n",
       "      <td>70.846428</td>\n",
       "      <td>0.857943</td>\n",
       "      <td>12.291411</td>\n",
       "    </tr>\n",
       "    <tr>\n",
       "      <th>min</th>\n",
       "      <td>300.000000</td>\n",
       "      <td>1982.000000</td>\n",
       "      <td>0.000000</td>\n",
       "      <td>38.000000</td>\n",
       "      <td>2.000000</td>\n",
       "      <td>0.000000</td>\n",
       "    </tr>\n",
       "    <tr>\n",
       "      <th>25%</th>\n",
       "      <td>7995.000000</td>\n",
       "      <td>2010.000000</td>\n",
       "      <td>26653.000000</td>\n",
       "      <td>109.000000</td>\n",
       "      <td>4.000000</td>\n",
       "      <td>9.000000</td>\n",
       "    </tr>\n",
       "    <tr>\n",
       "      <th>50%</th>\n",
       "      <td>14490.000000</td>\n",
       "      <td>2016.000000</td>\n",
       "      <td>82934.000000</td>\n",
       "      <td>130.000000</td>\n",
       "      <td>5.000000</td>\n",
       "      <td>15.000000</td>\n",
       "    </tr>\n",
       "    <tr>\n",
       "      <th>75%</th>\n",
       "      <td>21990.000000</td>\n",
       "      <td>2018.000000</td>\n",
       "      <td>149000.000000</td>\n",
       "      <td>160.000000</td>\n",
       "      <td>5.000000</td>\n",
       "      <td>25.000000</td>\n",
       "    </tr>\n",
       "    <tr>\n",
       "      <th>max</th>\n",
       "      <td>319900.000000</td>\n",
       "      <td>2021.000000</td>\n",
       "      <td>600000.000000</td>\n",
       "      <td>670.000000</td>\n",
       "      <td>5.000000</td>\n",
       "      <td>54.000000</td>\n",
       "    </tr>\n",
       "  </tbody>\n",
       "</table>\n",
       "</div>"
      ],
      "text/plain": [
       "               price         year            kms        power        doors  \\\n",
       "count    4045.000000  4045.000000    4045.000000  4045.000000  4045.000000   \n",
       "mean    17449.536465  2013.874660   97549.776761   146.143387     4.525340   \n",
       "std     15950.274503     5.850585   83305.770505    70.846428     0.857943   \n",
       "min       300.000000  1982.000000       0.000000    38.000000     2.000000   \n",
       "25%      7995.000000  2010.000000   26653.000000   109.000000     4.000000   \n",
       "50%     14490.000000  2016.000000   82934.000000   130.000000     5.000000   \n",
       "75%     21990.000000  2018.000000  149000.000000   160.000000     5.000000   \n",
       "max    319900.000000  2021.000000  600000.000000   670.000000     5.000000   \n",
       "\n",
       "            photos  \n",
       "count  4045.000000  \n",
       "mean     18.418789  \n",
       "std      12.291411  \n",
       "min       0.000000  \n",
       "25%       9.000000  \n",
       "50%      15.000000  \n",
       "75%      25.000000  \n",
       "max      54.000000  "
      ]
     },
     "execution_count": 29,
     "metadata": {},
     "output_type": "execute_result"
    }
   ],
   "source": [
    "datos_cuanti.describe(include = 'all')"
   ]
  },
  {
   "cell_type": "markdown",
   "id": "1433b676",
   "metadata": {},
   "source": [
    "## Boxplot y Densidad de Variables Cuantitativas\n",
    "\n",
    "En los siguientes gráficos encontramos las distribuciones de las variables cuantitativas a través de sus boxplox. Ilustrando quienes tienen datos atípicos, sesgos y quienes parecen ser simétricas"
   ]
  },
  {
   "cell_type": "markdown",
   "id": "4854370b",
   "metadata": {},
   "source": [
    "### Boxplot Precio\n",
    "Contiene datos atípicos superiores y sesgo hacia la derecha"
   ]
  },
  {
   "cell_type": "code",
   "execution_count": 30,
   "id": "a532fb9e",
   "metadata": {
    "scrolled": false
   },
   "outputs": [
    {
     "data": {
      "image/png": "[encoded data removed]",
      "text/plain": [
       "<Figure size 432x288 with 1 Axes>"
      ]
     },
     "metadata": {
      "needs_background": "light"
     },
     "output_type": "display_data"
    }
   ],
   "source": [
    "boxplot = datos_cuanti.boxplot(column=cuanti[0])"
   ]
  },
  {
   "cell_type": "markdown",
   "id": "3f33f3ff",
   "metadata": {},
   "source": [
    "### Boxplot Año\n",
    "Algunos datos atípicos a la izquierda pero con mayor concentración de datos a la derecha, es decir años más altos"
   ]
  },
  {
   "cell_type": "code",
   "execution_count": 31,
   "id": "827f8fba",
   "metadata": {
    "scrolled": true
   },
   "outputs": [
    {
     "data": {
      "image/png": "[encoded data removed]",
      "text/plain": [
       "<Figure size 432x288 with 1 Axes>"
      ]
     },
     "metadata": {
      "needs_background": "light"
     },
     "output_type": "display_data"
    }
   ],
   "source": [
    "boxplot = datos_cuanti.boxplot(column=cuanti[1])"
   ]
  },
  {
   "cell_type": "markdown",
   "id": "b5c70e06",
   "metadata": {},
   "source": [
    "### Boxplot - kms\n",
    "\n",
    "datos atípicos superiores y el resto de información parece ser simétrica"
   ]
  },
  {
   "cell_type": "code",
   "execution_count": 32,
   "id": "beb3c594",
   "metadata": {
    "scrolled": true
   },
   "outputs": [
    {
     "data": {
      "image/png": "[encoded data removed]",
      "text/plain": [
       "<Figure size 432x288 with 1 Axes>"
      ]
     },
     "metadata": {
      "needs_background": "light"
     },
     "output_type": "display_data"
    }
   ],
   "source": [
    "boxplot = datos_cuanti.boxplot(column=cuanti[2])"
   ]
  },
  {
   "cell_type": "markdown",
   "id": "aa462b86",
   "metadata": {},
   "source": [
    "### Boxplot - Power\n",
    "\n",
    "Muchos datos atípicos superiores aunque el restante parece estar distribuido de manera simétrica"
   ]
  },
  {
   "cell_type": "code",
   "execution_count": 33,
   "id": "add54645",
   "metadata": {
    "scrolled": true
   },
   "outputs": [
    {
     "data": {
      "image/png": "[encoded data removed]",
      "text/plain": [
       "<Figure size 432x288 with 1 Axes>"
      ]
     },
     "metadata": {
      "needs_background": "light"
     },
     "output_type": "display_data"
    }
   ],
   "source": [
    "boxplot = datos_cuanti.boxplot(column=cuanti[3])"
   ]
  },
  {
   "cell_type": "markdown",
   "id": "75a2f2ce",
   "metadata": {},
   "source": [
    "### Boxplot - doors\n",
    "Las puertas tienen un comportamiento peculiar poque al parecer la mayoria se encuentra entre 4 y 5, algunos pocos en 2 y otros cuantos en 3"
   ]
  },
  {
   "cell_type": "code",
   "execution_count": 34,
   "id": "354fc6b5",
   "metadata": {
    "scrolled": true
   },
   "outputs": [
    {
     "data": {
      "image/png": "[encoded data removed]",
      "text/plain": [
       "<Figure size 432x288 with 1 Axes>"
      ]
     },
     "metadata": {
      "needs_background": "light"
     },
     "output_type": "display_data"
    }
   ],
   "source": [
    "boxplot = datos_cuanti.boxplot(column=cuanti[4])"
   ]
  },
  {
   "cell_type": "markdown",
   "id": "59349f88",
   "metadata": {},
   "source": [
    "### Boxplot - Photos\n",
    "Algunos datos atípicos superiores y un poco de sesgo a la izquierda aunque parecen ser simétricos"
   ]
  },
  {
   "cell_type": "code",
   "execution_count": 35,
   "id": "1a62fecc",
   "metadata": {
    "scrolled": true
   },
   "outputs": [
    {
     "data": {
      "image/png": "[encoded data removed]",
      "text/plain": [
       "<Figure size 432x288 with 1 Axes>"
      ]
     },
     "metadata": {
      "needs_background": "light"
     },
     "output_type": "display_data"
    }
   ],
   "source": [
    "boxplot = datos_cuanti.boxplot(column=cuanti[5])"
   ]
  },
  {
   "cell_type": "markdown",
   "id": "71355a0d",
   "metadata": {},
   "source": [
    "## Correlación entre las Variables"
   ]
  },
  {
   "cell_type": "code",
   "execution_count": 36,
   "id": "434b10a1",
   "metadata": {
    "scrolled": true
   },
   "outputs": [
    {
     "data": {
      "text/html": [
       "<div>\n",
       "<style scoped>\n",
       "    .dataframe tbody tr th:only-of-type {\n",
       "        vertical-align: middle;\n",
       "    }\n",
       "\n",
       "    .dataframe tbody tr th {\n",
       "        vertical-align: top;\n",
       "    }\n",
       "\n",
       "    .dataframe thead th {\n",
       "        text-align: right;\n",
       "    }\n",
       "</style>\n",
       "<table border=\"1\" class=\"dataframe\">\n",
       "  <thead>\n",
       "    <tr style=\"text-align: right;\">\n",
       "      <th></th>\n",
       "      <th>price</th>\n",
       "      <th>year</th>\n",
       "      <th>kms</th>\n",
       "      <th>power</th>\n",
       "      <th>doors</th>\n",
       "      <th>photos</th>\n",
       "    </tr>\n",
       "  </thead>\n",
       "  <tbody>\n",
       "    <tr>\n",
       "      <th>price</th>\n",
       "      <td>1.000000</td>\n",
       "      <td>0.428315</td>\n",
       "      <td>-0.430802</td>\n",
       "      <td>0.701228</td>\n",
       "      <td>-0.014135</td>\n",
       "      <td>0.201046</td>\n",
       "    </tr>\n",
       "    <tr>\n",
       "      <th>year</th>\n",
       "      <td>0.428315</td>\n",
       "      <td>1.000000</td>\n",
       "      <td>-0.743791</td>\n",
       "      <td>0.020049</td>\n",
       "      <td>0.291168</td>\n",
       "      <td>0.273814</td>\n",
       "    </tr>\n",
       "    <tr>\n",
       "      <th>kms</th>\n",
       "      <td>-0.430802</td>\n",
       "      <td>-0.743791</td>\n",
       "      <td>1.000000</td>\n",
       "      <td>-0.000518</td>\n",
       "      <td>-0.163504</td>\n",
       "      <td>-0.203556</td>\n",
       "    </tr>\n",
       "    <tr>\n",
       "      <th>power</th>\n",
       "      <td>0.701228</td>\n",
       "      <td>0.020049</td>\n",
       "      <td>-0.000518</td>\n",
       "      <td>1.000000</td>\n",
       "      <td>-0.146783</td>\n",
       "      <td>0.141775</td>\n",
       "    </tr>\n",
       "    <tr>\n",
       "      <th>doors</th>\n",
       "      <td>-0.014135</td>\n",
       "      <td>0.291168</td>\n",
       "      <td>-0.163504</td>\n",
       "      <td>-0.146783</td>\n",
       "      <td>1.000000</td>\n",
       "      <td>0.090070</td>\n",
       "    </tr>\n",
       "    <tr>\n",
       "      <th>photos</th>\n",
       "      <td>0.201046</td>\n",
       "      <td>0.273814</td>\n",
       "      <td>-0.203556</td>\n",
       "      <td>0.141775</td>\n",
       "      <td>0.090070</td>\n",
       "      <td>1.000000</td>\n",
       "    </tr>\n",
       "  </tbody>\n",
       "</table>\n",
       "</div>"
      ],
      "text/plain": [
       "           price      year       kms     power     doors    photos\n",
       "price   1.000000  0.428315 -0.430802  0.701228 -0.014135  0.201046\n",
       "year    0.428315  1.000000 -0.743791  0.020049  0.291168  0.273814\n",
       "kms    -0.430802 -0.743791  1.000000 -0.000518 -0.163504 -0.203556\n",
       "power   0.701228  0.020049 -0.000518  1.000000 -0.146783  0.141775\n",
       "doors  -0.014135  0.291168 -0.163504 -0.146783  1.000000  0.090070\n",
       "photos  0.201046  0.273814 -0.203556  0.141775  0.090070  1.000000"
      ]
     },
     "execution_count": 36,
     "metadata": {},
     "output_type": "execute_result"
    }
   ],
   "source": [
    "corr = datos_cuanti.corr()\n",
    "corr"
   ]
  },
  {
   "cell_type": "code",
   "execution_count": 37,
   "id": "c66ad295",
   "metadata": {
    "scrolled": false
   },
   "outputs": [
    {
     "data": {
      "image/png": "[encoded data removed]",
      "text/plain": [
       "<Figure size 432x288 with 2 Axes>"
      ]
     },
     "metadata": {
      "needs_background": "light"
     },
     "output_type": "display_data"
    }
   ],
   "source": [
    "sns.heatmap(datos_cuanti.corr(),cmap='gist_heat' ,vmax=1.0, vmin=-1.0,annot=True,square=True);"
   ]
  },
  {
   "cell_type": "markdown",
   "id": "bf6672f2",
   "metadata": {},
   "source": [
    "# Conclusiones Variables Cuantitativas\n",
    "\n",
    "A partir de los dos resultados anteriores podemo ver las correlaciones entre las variables. Por ejemplo una de las más altas y positivas es la variable Precio y Power, es decir que a mayor poder, más precio tiene el auto lo cual es una conclusión bastante importante teniendo una correlación de 0.70 aproximadamente. \n",
    "\n",
    "Por otra parte tenemos correlaciones negativas altas como lo es el Precio y kms (kilómetros), es decir que a mayor kilómetros del auto, el precio disminuye y esto tiene todo el sentido debido al uso del auto, esta correlación es de -0.43 aproximadamente, es decir correlación relativamente alta. \n",
    "\n",
    "Otro caso de correlación negativa, ya no con la variable principal Precio sino con Year y kms, es una correlación negativa de -0.7438 es decir una correlación negativa alta donde a mayor kilómetro menor es el año del auto, que también hace sentido con el ejercicio realizado.\n",
    "\n",
    "Y así sucesivamente se pueden interpretar estos resultados como conclusiones del ejercicio en cuanto a variables cuantitativas."
   ]
  },
  {
   "cell_type": "markdown",
   "id": "d13153b0",
   "metadata": {},
   "source": [
    "## Variables Cualitativas\n",
    "\n",
    "Las variables cualitativas deben ser analizadas de forma diferente y a estas se les observará unicamente la distribución que tienen según sus categorías, es decir se realizan conteos sobre estas en la medida que estos puedan ser interpretables "
   ]
  },
  {
   "cell_type": "markdown",
   "id": "e51a29ae",
   "metadata": {},
   "source": [
    "# Conclusiones Variables Categorias\n",
    "\n",
    "Para esto primero creamos el conjunto de variables categóricas de la siguiente manera"
   ]
  },
  {
   "cell_type": "code",
   "execution_count": 43,
   "id": "7a470675",
   "metadata": {},
   "outputs": [],
   "source": [
    "cuali = ['company', 'make', 'model', 'version', 'fuel', \n",
    "         'shift', 'color',  'is_professional','dealer']"
   ]
  },
  {
   "cell_type": "code",
   "execution_count": 44,
   "id": "002b35b3",
   "metadata": {},
   "outputs": [
    {
     "data": {
      "text/html": [
       "<div>\n",
       "<style scoped>\n",
       "    .dataframe tbody tr th:only-of-type {\n",
       "        vertical-align: middle;\n",
       "    }\n",
       "\n",
       "    .dataframe tbody tr th {\n",
       "        vertical-align: top;\n",
       "    }\n",
       "\n",
       "    .dataframe thead th {\n",
       "        text-align: right;\n",
       "    }\n",
       "</style>\n",
       "<table border=\"1\" class=\"dataframe\">\n",
       "  <thead>\n",
       "    <tr style=\"text-align: right;\">\n",
       "      <th></th>\n",
       "      <th>company</th>\n",
       "      <th>make</th>\n",
       "      <th>model</th>\n",
       "      <th>version</th>\n",
       "      <th>fuel</th>\n",
       "      <th>shift</th>\n",
       "      <th>color</th>\n",
       "      <th>is_professional</th>\n",
       "      <th>dealer</th>\n",
       "    </tr>\n",
       "  </thead>\n",
       "  <tbody>\n",
       "    <tr>\n",
       "      <th>0</th>\n",
       "      <td>9881BCDD5A0AD4733037B3FB25E69C3A</td>\n",
       "      <td>KIA</td>\n",
       "      <td>Carnival</td>\n",
       "      <td>KIA Carnival 2.9 CRDi VGT EX 5p.</td>\n",
       "      <td>Diésel</td>\n",
       "      <td>Manual</td>\n",
       "      <td>Beige (champagne)</td>\n",
       "      <td>True</td>\n",
       "      <td>VM Motor</td>\n",
       "    </tr>\n",
       "    <tr>\n",
       "      <th>2</th>\n",
       "      <td>9881BCDD5A0AD4733037B3FB25E69C3A</td>\n",
       "      <td>FIAT</td>\n",
       "      <td>500</td>\n",
       "      <td>FIAT 500 1.2 8v 51kW 69CV Lounge 3p.</td>\n",
       "      <td>Gasolina</td>\n",
       "      <td>Manual</td>\n",
       "      <td>Negro</td>\n",
       "      <td>True</td>\n",
       "      <td>LAS PALMAS MOTOR</td>\n",
       "    </tr>\n",
       "    <tr>\n",
       "      <th>4</th>\n",
       "      <td>9881BCDD5A0AD4733037B3FB25E69C3A</td>\n",
       "      <td>MERCEDES-BENZ</td>\n",
       "      <td>Clase C</td>\n",
       "      <td>MERCEDES-BENZ Clase C C 220 CDI AVANTGARDE 4p.</td>\n",
       "      <td>Diésel</td>\n",
       "      <td>Automático</td>\n",
       "      <td>Gris / Plata</td>\n",
       "      <td>True</td>\n",
       "      <td>Autos Lipiz</td>\n",
       "    </tr>\n",
       "    <tr>\n",
       "      <th>6</th>\n",
       "      <td>9881BCDD5A0AD4733037B3FB25E69C3A</td>\n",
       "      <td>PEUGEOT</td>\n",
       "      <td>3008</td>\n",
       "      <td>PEUGEOT 3008 1.2 PURETECH 130 HP ALLURE SS 5p.</td>\n",
       "      <td>Gasolina</td>\n",
       "      <td>Manual</td>\n",
       "      <td>Blanco</td>\n",
       "      <td>True</td>\n",
       "      <td>Peugeot Beycar</td>\n",
       "    </tr>\n",
       "    <tr>\n",
       "      <th>8</th>\n",
       "      <td>9881BCDD5A0AD4733037B3FB25E69C3A</td>\n",
       "      <td>OPEL</td>\n",
       "      <td>Insignia</td>\n",
       "      <td>OPEL Insignia ST 2.0 CDTI ecoFLEX SS 140 CV Se...</td>\n",
       "      <td>Diésel</td>\n",
       "      <td>Manual</td>\n",
       "      <td>Blanco</td>\n",
       "      <td>False</td>\n",
       "      <td>177DACB14B34103960EC27BA29BD686B</td>\n",
       "    </tr>\n",
       "    <tr>\n",
       "      <th>11</th>\n",
       "      <td>9881BCDD5A0AD4733037B3FB25E69C3A</td>\n",
       "      <td>RENAULT</td>\n",
       "      <td>Mégane</td>\n",
       "      <td>RENAULT Megane Dynamique dCi 110 5p.</td>\n",
       "      <td>Diésel</td>\n",
       "      <td>Manual</td>\n",
       "      <td>Negro</td>\n",
       "      <td>True</td>\n",
       "      <td>Automóviles Cajigos</td>\n",
       "    </tr>\n",
       "    <tr>\n",
       "      <th>12</th>\n",
       "      <td>9881BCDD5A0AD4733037B3FB25E69C3A</td>\n",
       "      <td>CITROEN</td>\n",
       "      <td>Berlingo</td>\n",
       "      <td>CITROEN Berlingo 1.6 HDi 90 XTR Plus 5p.</td>\n",
       "      <td>Diésel</td>\n",
       "      <td>Manual</td>\n",
       "      <td>Gris / Plata</td>\n",
       "      <td>False</td>\n",
       "      <td>7AD37B51C6C48B5A3A016D7C3DB37889</td>\n",
       "    </tr>\n",
       "    <tr>\n",
       "      <th>13</th>\n",
       "      <td>9881BCDD5A0AD4733037B3FB25E69C3A</td>\n",
       "      <td>MERCEDES-BENZ</td>\n",
       "      <td>Clase GLE Coupé</td>\n",
       "      <td>MERCEDES-BENZ Clase GLE Coupe MercedesAMG GLE ...</td>\n",
       "      <td>Gasolina</td>\n",
       "      <td>Automático</td>\n",
       "      <td>Azul (AZUL CAVANSITA - PINTURA )</td>\n",
       "      <td>True</td>\n",
       "      <td>Adarsa León</td>\n",
       "    </tr>\n",
       "    <tr>\n",
       "      <th>15</th>\n",
       "      <td>9881BCDD5A0AD4733037B3FB25E69C3A</td>\n",
       "      <td>CITROEN</td>\n",
       "      <td>C4 Picasso</td>\n",
       "      <td>CITROEN C4 Picasso BlueHDi 120cv Shine 5p.</td>\n",
       "      <td>Diésel</td>\n",
       "      <td>Manual</td>\n",
       "      <td>Gris / Plata</td>\n",
       "      <td>True</td>\n",
       "      <td>Toyota Labasa Murcia</td>\n",
       "    </tr>\n",
       "    <tr>\n",
       "      <th>16</th>\n",
       "      <td>9881BCDD5A0AD4733037B3FB25E69C3A</td>\n",
       "      <td>SEAT</td>\n",
       "      <td>Ateca</td>\n",
       "      <td>SEAT Ateca 1.0 TSI 85kW 115CV StSp Style Eco 5p.</td>\n",
       "      <td>Gasolina</td>\n",
       "      <td>Manual</td>\n",
       "      <td>Gris / Plata (Gris Rodium)</td>\n",
       "      <td>True</td>\n",
       "      <td>Seat Gines Huertas Cervantes Cartagena</td>\n",
       "    </tr>\n",
       "  </tbody>\n",
       "</table>\n",
       "</div>"
      ],
      "text/plain": [
       "                             company           make            model  \\\n",
       "0   9881BCDD5A0AD4733037B3FB25E69C3A            KIA         Carnival   \n",
       "2   9881BCDD5A0AD4733037B3FB25E69C3A           FIAT              500   \n",
       "4   9881BCDD5A0AD4733037B3FB25E69C3A  MERCEDES-BENZ          Clase C   \n",
       "6   9881BCDD5A0AD4733037B3FB25E69C3A        PEUGEOT             3008   \n",
       "8   9881BCDD5A0AD4733037B3FB25E69C3A           OPEL         Insignia   \n",
       "11  9881BCDD5A0AD4733037B3FB25E69C3A        RENAULT           Mégane   \n",
       "12  9881BCDD5A0AD4733037B3FB25E69C3A        CITROEN         Berlingo   \n",
       "13  9881BCDD5A0AD4733037B3FB25E69C3A  MERCEDES-BENZ  Clase GLE Coupé   \n",
       "15  9881BCDD5A0AD4733037B3FB25E69C3A        CITROEN       C4 Picasso   \n",
       "16  9881BCDD5A0AD4733037B3FB25E69C3A           SEAT            Ateca   \n",
       "\n",
       "                                              version      fuel       shift  \\\n",
       "0                    KIA Carnival 2.9 CRDi VGT EX 5p.    Diésel      Manual   \n",
       "2                FIAT 500 1.2 8v 51kW 69CV Lounge 3p.  Gasolina      Manual   \n",
       "4      MERCEDES-BENZ Clase C C 220 CDI AVANTGARDE 4p.    Diésel  Automático   \n",
       "6      PEUGEOT 3008 1.2 PURETECH 130 HP ALLURE SS 5p.  Gasolina      Manual   \n",
       "8   OPEL Insignia ST 2.0 CDTI ecoFLEX SS 140 CV Se...    Diésel      Manual   \n",
       "11               RENAULT Megane Dynamique dCi 110 5p.    Diésel      Manual   \n",
       "12           CITROEN Berlingo 1.6 HDi 90 XTR Plus 5p.    Diésel      Manual   \n",
       "13  MERCEDES-BENZ Clase GLE Coupe MercedesAMG GLE ...  Gasolina  Automático   \n",
       "15         CITROEN C4 Picasso BlueHDi 120cv Shine 5p.    Diésel      Manual   \n",
       "16   SEAT Ateca 1.0 TSI 85kW 115CV StSp Style Eco 5p.  Gasolina      Manual   \n",
       "\n",
       "                               color  is_professional  \\\n",
       "0                  Beige (champagne)             True   \n",
       "2                              Negro             True   \n",
       "4                       Gris / Plata             True   \n",
       "6                             Blanco             True   \n",
       "8                             Blanco            False   \n",
       "11                             Negro             True   \n",
       "12                      Gris / Plata            False   \n",
       "13  Azul (AZUL CAVANSITA - PINTURA )             True   \n",
       "15                      Gris / Plata             True   \n",
       "16        Gris / Plata (Gris Rodium)             True   \n",
       "\n",
       "                                    dealer  \n",
       "0                                 VM Motor  \n",
       "2                         LAS PALMAS MOTOR  \n",
       "4                              Autos Lipiz  \n",
       "6                           Peugeot Beycar  \n",
       "8         177DACB14B34103960EC27BA29BD686B  \n",
       "11                     Automóviles Cajigos  \n",
       "12        7AD37B51C6C48B5A3A016D7C3DB37889  \n",
       "13                             Adarsa León  \n",
       "15                    Toyota Labasa Murcia  \n",
       "16  Seat Gines Huertas Cervantes Cartagena  "
      ]
     },
     "execution_count": 44,
     "metadata": {},
     "output_type": "execute_result"
    }
   ],
   "source": [
    "datos_cuali = datos_sinNA[cuali]\n",
    "datos_cuali.head(10)"
   ]
  },
  {
   "cell_type": "markdown",
   "id": "fd187c34",
   "metadata": {},
   "source": [
    "### Compañia\n",
    "Existe una unica compañia"
   ]
  },
  {
   "cell_type": "code",
   "execution_count": 45,
   "id": "3caa1882",
   "metadata": {},
   "outputs": [
    {
     "data": {
      "text/plain": [
       "9881BCDD5A0AD4733037B3FB25E69C3A    4045\n",
       "Name: company, dtype: int64"
      ]
     },
     "execution_count": 45,
     "metadata": {},
     "output_type": "execute_result"
    }
   ],
   "source": [
    "datos_cuali[cuali[0]].value_counts()"
   ]
  },
  {
   "cell_type": "markdown",
   "id": "778ada08",
   "metadata": {},
   "source": [
    "### Marca\n",
    "La mayor cantidad de autos son VOLKSWAGEN, BMW y MERCEDES-BENZ"
   ]
  },
  {
   "cell_type": "code",
   "execution_count": 94,
   "id": "05233066",
   "metadata": {},
   "outputs": [
    {
     "data": {
      "text/plain": [
       "VOLKSWAGEN       386\n",
       "BMW              363\n",
       "MERCEDES-BENZ    337\n",
       "AUDI             294\n",
       "PEUGEOT          270\n",
       "RENAULT          267\n",
       "FORD             235\n",
       "OPEL             229\n",
       "CITROEN          224\n",
       "SEAT             190\n",
       "TOYOTA           140\n",
       "NISSAN           123\n",
       "FIAT             107\n",
       "HYUNDAI           95\n",
       "KIA               88\n",
       "VOLVO             78\n",
       "SKODA             65\n",
       "LAND-ROVER        62\n",
       "MINI              58\n",
       "PORSCHE           41\n",
       "MAZDA             41\n",
       "HONDA             32\n",
       "JAGUAR            31\n",
       "MITSUBISHI        29\n",
       "SUZUKI            26\n",
       "LEXUS             24\n",
       "ALFA ROMEO        21\n",
       "JEEP              19\n",
       "CHEVROLET         19\n",
       "SMART             17\n",
       "DACIA             16\n",
       "ABARTH            16\n",
       "DS                16\n",
       "SUBARU            13\n",
       "SSANGYONG         13\n",
       "FERRARI            6\n",
       "SAAB               6\n",
       "CHRYSLER           6\n",
       "INFINITI           6\n",
       "MASERATI           6\n",
       "BENTLEY            4\n",
       "IVECO              3\n",
       "LANCIA             3\n",
       "DODGE              3\n",
       "ASTON MARTIN       3\n",
       "ISUZU              2\n",
       "ROLLS-ROYCE        2\n",
       "DFSK               2\n",
       "TESLA              2\n",
       "GALLOPER           1\n",
       "MG                 1\n",
       "HUMMER             1\n",
       "TATA               1\n",
       "LADA               1\n",
       "DAEWOO             1\n",
       "Name: make, dtype: int64"
      ]
     },
     "execution_count": 94,
     "metadata": {},
     "output_type": "execute_result"
    }
   ],
   "source": [
    "datos_cuali[cuali[1]].value_counts()"
   ]
  },
  {
   "cell_type": "code",
   "execution_count": 170,
   "id": "a7640eb8",
   "metadata": {},
   "outputs": [
    {
     "data": {
      "image/png": "[encoded data removed]",
      "text/plain": [
       "<Figure size 432x288 with 1 Axes>"
      ]
     },
     "metadata": {
      "needs_background": "light"
     },
     "output_type": "display_data"
    }
   ],
   "source": [
    "plt.title(\"Cantidad de marca de autos vendidos en  la pagina Web \")\n",
    "plt.ylabel(\"Frecuencia\")\n",
    "plt.xlabel(\"Marcas \") \n",
    "plt.xticks(rotation=90)\n",
    "plt.bar( datos_cuali[cuali[1]].value_counts()[0:15].index,datos_cuali[cuali[1]].value_counts()[0:15],color= \"blue\") ;"
   ]
  },
  {
   "cell_type": "markdown",
   "id": "b407e2e9",
   "metadata": {},
   "source": [
    "### Modelo de referencia\n",
    "La mayoría corresponden al carro modelo Golf y Serie 3, sin embargo existen 545 modelos"
   ]
  },
  {
   "cell_type": "code",
   "execution_count": 86,
   "id": "e91d62a8",
   "metadata": {},
   "outputs": [
    {
     "data": {
      "text/plain": [
       "Golf                  123\n",
       "Serie 3               103\n",
       "A4                     77\n",
       "Mégane                 65\n",
       "A3                     61\n",
       "                     ... \n",
       "230                     1\n",
       "Rapid                   1\n",
       "R21                     1\n",
       "Elantra                 1\n",
       "A4 Allroad Quattro      1\n",
       "Name: model, Length: 545, dtype: int64"
      ]
     },
     "execution_count": 86,
     "metadata": {},
     "output_type": "execute_result"
    }
   ],
   "source": [
    "datos_cuali[cuali[2]].value_counts()"
   ]
  },
  {
   "cell_type": "markdown",
   "id": "ce64e9dd",
   "metadata": {},
   "source": [
    "### Version del modelo\n",
    "La más frecuente es BMW X1 sDrive18d 5p. con 20 autos, y existen 3126 diferentes"
   ]
  },
  {
   "cell_type": "code",
   "execution_count": 87,
   "id": "6684ce91",
   "metadata": {},
   "outputs": [
    {
     "data": {
      "text/plain": [
       "BMW X1 sDrive18d 5p.                               20\n",
       "BMW Serie 1 118d 5p.                               14\n",
       "TOYOTA CHR 1.8 125H Advance 5p.                    14\n",
       "BMW Serie 3 318d Gran Turismo 5p.                  13\n",
       "BMW Serie 3 320D 4p.                               13\n",
       "                                                   ..\n",
       "FORD Fiesta 1.5 TDCi 75cv White Edition 3p 3p.      1\n",
       "JAGUAR FType 3.0 V6 SC Convertible Auto RWD 2p.     1\n",
       "MERCEDES-BENZ GLE GLE 300 d 4MATIC 5p.              1\n",
       "HUMMER H2 6.0 V8 Luxury 6 Asientos 5p.              1\n",
       "TOYOTA Auris 1.2 120T Active Touring Sports 5p.     1\n",
       "Name: version, Length: 3126, dtype: int64"
      ]
     },
     "execution_count": 87,
     "metadata": {},
     "output_type": "execute_result"
    }
   ],
   "source": [
    "datos_cuali[cuali[3]].value_counts()"
   ]
  },
  {
   "cell_type": "markdown",
   "id": "abc96dfd",
   "metadata": {},
   "source": [
    "### Combustible\n",
    "La mayoría de carros cuentan con Diesel siendo estos 2423, seguidos de Gasolina con 1391 y el menor número es Gas licuado con solo 8 autos"
   ]
  },
  {
   "cell_type": "code",
   "execution_count": 88,
   "id": "88bc2b6f",
   "metadata": {},
   "outputs": [
    {
     "data": {
      "text/plain": [
       "Diésel                2423\n",
       "Gasolina              1391\n",
       "Híbrido                128\n",
       "Híbrido enchufable      48\n",
       "Eléctrico               37\n",
       "Gas natural (CNG)       10\n",
       "Gas licuado (GLP)        8\n",
       "Name: fuel, dtype: int64"
      ]
     },
     "execution_count": 88,
     "metadata": {},
     "output_type": "execute_result"
    }
   ],
   "source": [
    "datos_cuali[cuali[4]].value_counts()"
   ]
  },
  {
   "cell_type": "code",
   "execution_count": 173,
   "id": "84ce7f69",
   "metadata": {},
   "outputs": [
    {
     "data": {
      "image/png": "[encoded data removed]",
      "text/plain": [
       "<Figure size 432x288 with 1 Axes>"
      ]
     },
     "metadata": {
      "needs_background": "light"
     },
     "output_type": "display_data"
    }
   ],
   "source": [
    "plt.title(\"Histograma de Combustión interna  \")\n",
    "plt.ylabel(\"Frecuencia\")\n",
    "plt.xlabel(\"Tipo de combustible  \") \n",
    "plt.xticks(rotation=90)\n",
    "plt.hist(datos_cuali[cuali[4]], edgecolor = 'black',color= \"yellow\") ;"
   ]
  },
  {
   "cell_type": "markdown",
   "id": "22102542",
   "metadata": {},
   "source": [
    "### Caja de cambios\n",
    "Manual son 2663 y automáticos corresponden 1382 autos"
   ]
  },
  {
   "cell_type": "code",
   "execution_count": 89,
   "id": "5f845f68",
   "metadata": {},
   "outputs": [
    {
     "data": {
      "text/plain": [
       "Manual        2663\n",
       "Automático    1382\n",
       "Name: shift, dtype: int64"
      ]
     },
     "execution_count": 89,
     "metadata": {},
     "output_type": "execute_result"
    }
   ],
   "source": [
    "datos_cuali[cuali[5]].value_counts()\n"
   ]
  },
  {
   "cell_type": "code",
   "execution_count": 168,
   "id": "765d6002",
   "metadata": {},
   "outputs": [
    {
     "data": {
      "image/png": "[encoded data removed]",
      "text/plain": [
       "<Figure size 432x288 with 1 Axes>"
      ]
     },
     "metadata": {
      "needs_background": "light"
     },
     "output_type": "display_data"
    }
   ],
   "source": [
    "plt.title(\"Histograma Caja de cambio \")\n",
    "plt.ylabel(\"Frecuencia\")\n",
    "plt.xlabel(\"Cambios \") \n",
    "plt.hist(datos_cuali[cuali[5]], edgecolor = 'black',color= \"Indigo\") ;"
   ]
  },
  {
   "cell_type": "markdown",
   "id": "00722a8b",
   "metadata": {},
   "source": [
    "###  Color \n",
    "952 son Blancos, seguidos de Gris/plata con 717 y en tercer lugar el color negro con 616"
   ]
  },
  {
   "cell_type": "code",
   "execution_count": 115,
   "id": "bcce04c5",
   "metadata": {},
   "outputs": [
    {
     "data": {
      "text/plain": [
       "Blanco                                 952\n",
       "Gris / Plata                           717\n",
       "Negro                                  616\n",
       "Azul                                   394\n",
       "Rojo                                   230\n",
       "                                      ... \n",
       "Negro (satinado)                         1\n",
       "Azul (K6K6 Azul Ara Efecto Cristal)      1\n",
       "Gris / Plata (*COR*)                     1\n",
       "Blanco (*LRO*)                           1\n",
       "B15 Light White (sÃ³lida)                1\n",
       "Name: color, Length: 675, dtype: int64"
      ]
     },
     "execution_count": 115,
     "metadata": {},
     "output_type": "execute_result"
    }
   ],
   "source": [
    "datos_cuali[cuali[6]].value_counts()"
   ]
  },
  {
   "cell_type": "code",
   "execution_count": 166,
   "id": "b55e46ad",
   "metadata": {
    "scrolled": true
   },
   "outputs": [
    {
     "data": {
      "image/png": "[encoded data removed]",
      "text/plain": [
       "<Figure size 432x288 with 1 Axes>"
      ]
     },
     "metadata": {
      "needs_background": "light"
     },
     "output_type": "display_data"
    }
   ],
   "source": [
    "plt.title(\"Colores de carros vendidos en la página \")\n",
    "plt.ylabel(\"Frecuencia\")\n",
    "plt.xlabel(\"Colores \") \n",
    "plt.bar(datos_cuali[cuali[6]].value_counts()[0:3].index,datos_cuali[cuali[6]].value_counts()[0:3], edgecolor = 'black',color='violet') ;"
   ]
  },
  {
   "cell_type": "markdown",
   "id": "7acde673",
   "metadata": {},
   "source": [
    "###  Profesional\n",
    "\n",
    "De la lista de carros observados se tiene que la mayoría son profesionales con 3125 autos y 920 no profesionales"
   ]
  },
  {
   "cell_type": "code",
   "execution_count": 91,
   "id": "59af63d0",
   "metadata": {},
   "outputs": [
    {
     "data": {
      "text/plain": [
       "True     3125\n",
       "False     920\n",
       "Name: is_professional, dtype: int64"
      ]
     },
     "execution_count": 91,
     "metadata": {},
     "output_type": "execute_result"
    }
   ],
   "source": [
    "datos_cuali[cuali[7]].value_counts()"
   ]
  },
  {
   "cell_type": "markdown",
   "id": "87f8d80e",
   "metadata": {},
   "source": [
    "### Distribuidor\n",
    "Cuentan con 2389 distintos distribuidores y el principal puede considerarse que es Ocasion Plus con 93 autos distribuidos"
   ]
  },
  {
   "cell_type": "code",
   "execution_count": 84,
   "id": "58d2a641",
   "metadata": {
    "scrolled": true
   },
   "outputs": [
    {
     "data": {
      "text/plain": [
       "Ocasion Plus                        93\n",
       "Flexicar Valencia                   32\n",
       "CarNext.com                         27\n",
       "Clicars                             25\n",
       "Flexicar Sevilla                    25\n",
       "                                    ..\n",
       "Saez Motor                           1\n",
       "Autos Olvera                         1\n",
       "Autos Auringis                       1\n",
       "Lexus Sevilla                        1\n",
       "9448B9C35DDD44F451DC88E988CC3A03     1\n",
       "Name: dealer, Length: 2389, dtype: int64"
      ]
     },
     "execution_count": 84,
     "metadata": {},
     "output_type": "execute_result"
    }
   ],
   "source": [
    "datos_cuali[cuali[8]].value_counts()"
   ]
  }
 ],
 "metadata": {
  "kernelspec": {
   "display_name": "Python 3",
   "language": "python",
   "name": "python3"
  },
  "language_info": {
   "codemirror_mode": {
    "name": "ipython",
    "version": 3
   },
   "file_extension": ".py",
   "mimetype": "text/x-python",
   "name": "python",
   "nbconvert_exporter": "python",
   "pygments_lexer": "ipython3",
   "version": "3.8.8"
  }
 },
 "nbformat": 4,
 "nbformat_minor": 5
}
